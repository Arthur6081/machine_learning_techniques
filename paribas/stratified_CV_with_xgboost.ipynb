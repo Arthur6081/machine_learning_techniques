{
 "cells": [
  {
   "cell_type": "code",
   "execution_count": 2,
   "metadata": {
    "collapsed": true
   },
   "outputs": [],
   "source": [
    "#I want to get to know gradient boosting methods (in particular, the xgboost library) and i am also currently in barbados.\n",
    "#Import libraries:\n",
    "import numpy as np\n",
    "import pandas as pd\n",
    "import xgboost as xgb\n",
    "import time"
   ]
  },
  {
   "cell_type": "markdown",
   "metadata": {},
   "source": [
    "# Stratified CV w/ XGBoost"
   ]
  },
  {
   "cell_type": "markdown",
   "metadata": {},
   "source": [
    "Loading & preprocessing:"
   ]
  },
  {
   "cell_type": "code",
   "execution_count": 3,
   "metadata": {
    "collapsed": false
   },
   "outputs": [
    {
     "name": "stdout",
     "output_type": "stream",
     "text": [
      "Load data...\n",
      "Clearing...\n"
     ]
    }
   ],
   "source": [
    "#https://www.kaggle.com/director/bnp-paribas-cardif-claims-management/simple-xgboost-0-46146/code\n",
    "print('Load data...')\n",
    "train = pd.read_csv(\"train.csv\")\n",
    "target = train['target']\n",
    "train = train.drop(['ID','target'],axis=1)\n",
    "test = pd.read_csv(\"test.csv\")\n",
    "ids = test['ID'].values\n",
    "test = test.drop(['ID'],axis=1)\n",
    "#\n",
    "print('Clearing...')\n",
    "for (train_name, train_series), (test_name, test_series) in zip(train.iteritems(),test.iteritems()):\n",
    "    if train_series.dtype == 'O':\n",
    "        #for objects: factorize\n",
    "        train[train_name], tmp_indexer = pd.factorize(train[train_name])\n",
    "        test[test_name] = tmp_indexer.get_indexer(test[test_name])\n",
    "        #but now we have -1 values (NaN)\n",
    "    else:\n",
    "        #for int or float: fill NaN\n",
    "        tmp_len = len(train[train_series.isnull()])\n",
    "        if tmp_len>0:\n",
    "            train.loc[train_series.isnull(), train_name] = train_series.mean()\n",
    "        #and Test\n",
    "        tmp_len = len(test[test_series.isnull()])\n",
    "        if tmp_len>0:\n",
    "            test.loc[test_series.isnull(), test_name] = train_series.mean()  #TODO"
   ]
  },
  {
   "cell_type": "code",
   "execution_count": null,
   "metadata": {
    "collapsed": false
   },
   "outputs": [],
   "source": [
    "#https://www.kaggle.com/c/bnp-paribas-cardif-claims-management/forums/t/19083/best-practices-for-parameter-tuning-on-models/\n",
    "#https://github.com/dmlc/xgboost/blob/master/demo/guide-python/cross_validation.py"
   ]
  },
  {
   "cell_type": "code",
   "execution_count": 48,
   "metadata": {
    "collapsed": false
   },
   "outputs": [
    {
     "name": "stdout",
     "output_type": "stream",
     "text": [
      "Fit the model...\n",
      "408.922273874\n"
     ]
    }
   ],
   "source": [
    "t0 = time.time()\n",
    "xgtrain = xgb.DMatrix(train.values, target.values)\n",
    "xgtest = xgb.DMatrix(test.values)\n",
    "\n",
    "params = {'objective': 'binary:logistic', \n",
    "              'subsample': 1, \n",
    "              'eta': 0.1, \n",
    "              'colsample_bytree': 0.90000000000000002, \n",
    "              'max_depth': 10,\n",
    "              'min_child_weight' : 5,\n",
    "                 'silent':1}\n",
    "\n",
    "#Now let's fit the model\n",
    "print('Fit the model...')\n",
    "num_round = 50 #1800 CHANGE THIS BEFORE START\n",
    "clf = xgb.cv(params,xgtrain,num_boost_round=num_round,metrics={'logloss'}, nfold = 5 ,\n",
    "             seed = 0 ,maximize=False)\n",
    "\n",
    "#i have attempted this with argument stratified = 1 and get the following error:\n",
    "#TypeError: cv() got an unexpected keyword argument 'stratified'\n",
    "\n",
    "\n",
    "#Make predict\n",
    "# print('Predict...')\n",
    "##check here for eval metrics + https://github.com/dmlc/xgboost/blob/master/demo/guide-python/evals_result.py\n",
    "t1 = time.time()\n",
    "total_time = t1 - t0\n",
    "print total_time"
   ]
  },
  {
   "cell_type": "code",
   "execution_count": 47,
   "metadata": {
    "collapsed": false
   },
   "outputs": [
    {
     "data": {
      "text/html": [
       "<div>\n",
       "<table border=\"1\" class=\"dataframe\">\n",
       "  <thead>\n",
       "    <tr style=\"text-align: right;\">\n",
       "      <th></th>\n",
       "      <th>test-logloss-mean</th>\n",
       "      <th>test-logloss-std</th>\n",
       "      <th>train-logloss-mean</th>\n",
       "      <th>train-logloss-std</th>\n",
       "    </tr>\n",
       "  </thead>\n",
       "  <tbody>\n",
       "    <tr>\n",
       "      <th>0</th>\n",
       "      <td>0.657933</td>\n",
       "      <td>0.000591</td>\n",
       "      <td>0.655429</td>\n",
       "      <td>0.000550</td>\n",
       "    </tr>\n",
       "    <tr>\n",
       "      <th>1</th>\n",
       "      <td>0.628350</td>\n",
       "      <td>0.000739</td>\n",
       "      <td>0.623086</td>\n",
       "      <td>0.000943</td>\n",
       "    </tr>\n",
       "    <tr>\n",
       "      <th>2</th>\n",
       "      <td>0.603884</td>\n",
       "      <td>0.001104</td>\n",
       "      <td>0.595802</td>\n",
       "      <td>0.001063</td>\n",
       "    </tr>\n",
       "    <tr>\n",
       "      <th>3</th>\n",
       "      <td>0.583370</td>\n",
       "      <td>0.001012</td>\n",
       "      <td>0.572541</td>\n",
       "      <td>0.000836</td>\n",
       "    </tr>\n",
       "    <tr>\n",
       "      <th>4</th>\n",
       "      <td>0.566755</td>\n",
       "      <td>0.000924</td>\n",
       "      <td>0.553194</td>\n",
       "      <td>0.000422</td>\n",
       "    </tr>\n",
       "    <tr>\n",
       "      <th>5</th>\n",
       "      <td>0.552614</td>\n",
       "      <td>0.000855</td>\n",
       "      <td>0.536283</td>\n",
       "      <td>0.000151</td>\n",
       "    </tr>\n",
       "    <tr>\n",
       "      <th>6</th>\n",
       "      <td>0.540211</td>\n",
       "      <td>0.000855</td>\n",
       "      <td>0.521392</td>\n",
       "      <td>0.000222</td>\n",
       "    </tr>\n",
       "    <tr>\n",
       "      <th>7</th>\n",
       "      <td>0.529721</td>\n",
       "      <td>0.000880</td>\n",
       "      <td>0.508403</td>\n",
       "      <td>0.000270</td>\n",
       "    </tr>\n",
       "    <tr>\n",
       "      <th>8</th>\n",
       "      <td>0.520790</td>\n",
       "      <td>0.000867</td>\n",
       "      <td>0.497102</td>\n",
       "      <td>0.000514</td>\n",
       "    </tr>\n",
       "    <tr>\n",
       "      <th>9</th>\n",
       "      <td>0.513212</td>\n",
       "      <td>0.000905</td>\n",
       "      <td>0.487175</td>\n",
       "      <td>0.000640</td>\n",
       "    </tr>\n",
       "    <tr>\n",
       "      <th>10</th>\n",
       "      <td>0.506994</td>\n",
       "      <td>0.000959</td>\n",
       "      <td>0.478506</td>\n",
       "      <td>0.000730</td>\n",
       "    </tr>\n",
       "    <tr>\n",
       "      <th>11</th>\n",
       "      <td>0.501447</td>\n",
       "      <td>0.001094</td>\n",
       "      <td>0.470861</td>\n",
       "      <td>0.000729</td>\n",
       "    </tr>\n",
       "    <tr>\n",
       "      <th>12</th>\n",
       "      <td>0.496789</td>\n",
       "      <td>0.001237</td>\n",
       "      <td>0.464108</td>\n",
       "      <td>0.000729</td>\n",
       "    </tr>\n",
       "    <tr>\n",
       "      <th>13</th>\n",
       "      <td>0.492689</td>\n",
       "      <td>0.001184</td>\n",
       "      <td>0.457947</td>\n",
       "      <td>0.000677</td>\n",
       "    </tr>\n",
       "    <tr>\n",
       "      <th>14</th>\n",
       "      <td>0.489190</td>\n",
       "      <td>0.001212</td>\n",
       "      <td>0.452237</td>\n",
       "      <td>0.000786</td>\n",
       "    </tr>\n",
       "    <tr>\n",
       "      <th>15</th>\n",
       "      <td>0.486248</td>\n",
       "      <td>0.001257</td>\n",
       "      <td>0.447101</td>\n",
       "      <td>0.000871</td>\n",
       "    </tr>\n",
       "    <tr>\n",
       "      <th>16</th>\n",
       "      <td>0.483681</td>\n",
       "      <td>0.001239</td>\n",
       "      <td>0.442427</td>\n",
       "      <td>0.000849</td>\n",
       "    </tr>\n",
       "    <tr>\n",
       "      <th>17</th>\n",
       "      <td>0.481431</td>\n",
       "      <td>0.001276</td>\n",
       "      <td>0.438261</td>\n",
       "      <td>0.000909</td>\n",
       "    </tr>\n",
       "    <tr>\n",
       "      <th>18</th>\n",
       "      <td>0.479627</td>\n",
       "      <td>0.001380</td>\n",
       "      <td>0.434358</td>\n",
       "      <td>0.000855</td>\n",
       "    </tr>\n",
       "    <tr>\n",
       "      <th>19</th>\n",
       "      <td>0.477896</td>\n",
       "      <td>0.001453</td>\n",
       "      <td>0.430595</td>\n",
       "      <td>0.000764</td>\n",
       "    </tr>\n",
       "  </tbody>\n",
       "</table>\n",
       "</div>"
      ],
      "text/plain": [
       "    test-logloss-mean  test-logloss-std  train-logloss-mean  train-logloss-std\n",
       "0            0.657933          0.000591            0.655429           0.000550\n",
       "1            0.628350          0.000739            0.623086           0.000943\n",
       "2            0.603884          0.001104            0.595802           0.001063\n",
       "3            0.583370          0.001012            0.572541           0.000836\n",
       "4            0.566755          0.000924            0.553194           0.000422\n",
       "5            0.552614          0.000855            0.536283           0.000151\n",
       "6            0.540211          0.000855            0.521392           0.000222\n",
       "7            0.529721          0.000880            0.508403           0.000270\n",
       "8            0.520790          0.000867            0.497102           0.000514\n",
       "9            0.513212          0.000905            0.487175           0.000640\n",
       "10           0.506994          0.000959            0.478506           0.000730\n",
       "11           0.501447          0.001094            0.470861           0.000729\n",
       "12           0.496789          0.001237            0.464108           0.000729\n",
       "13           0.492689          0.001184            0.457947           0.000677\n",
       "14           0.489190          0.001212            0.452237           0.000786\n",
       "15           0.486248          0.001257            0.447101           0.000871\n",
       "16           0.483681          0.001239            0.442427           0.000849\n",
       "17           0.481431          0.001276            0.438261           0.000909\n",
       "18           0.479627          0.001380            0.434358           0.000855\n",
       "19           0.477896          0.001453            0.430595           0.000764"
      ]
     },
     "execution_count": 47,
     "metadata": {},
     "output_type": "execute_result"
    }
   ],
   "source": [
    "clf"
   ]
  },
  {
   "cell_type": "code",
   "execution_count": null,
   "metadata": {
    "collapsed": true
   },
   "outputs": [],
   "source": []
  }
 ],
 "metadata": {
  "kernelspec": {
   "display_name": "Python 2",
   "language": "python",
   "name": "python2"
  },
  "language_info": {
   "codemirror_mode": {
    "name": "ipython",
    "version": 2
   },
   "file_extension": ".py",
   "mimetype": "text/x-python",
   "name": "python",
   "nbconvert_exporter": "python",
   "pygments_lexer": "ipython2",
   "version": "2.7.11"
  }
 },
 "nbformat": 4,
 "nbformat_minor": 0
}
