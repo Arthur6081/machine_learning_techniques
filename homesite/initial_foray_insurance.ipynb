{
 "cells": [
  {
   "cell_type": "markdown",
   "metadata": {},
   "source": [
    "# INITIAL FORAY INTO INSURANCE DATA"
   ]
  },
  {
   "cell_type": "code",
   "execution_count": 31,
   "metadata": {
    "collapsed": false
   },
   "outputs": [
    {
     "data": {
      "text/html": [
       "<div>\n",
       "<table border=\"1\" class=\"dataframe\">\n",
       "  <thead>\n",
       "    <tr style=\"text-align: right;\">\n",
       "      <th></th>\n",
       "      <th>QuoteNumber</th>\n",
       "      <th>Original_Quote_Date</th>\n",
       "      <th>QuoteConversion_Flag</th>\n",
       "      <th>Field6</th>\n",
       "      <th>Field7</th>\n",
       "      <th>Field8</th>\n",
       "      <th>Field9</th>\n",
       "      <th>Field10</th>\n",
       "      <th>Field11</th>\n",
       "      <th>Field12</th>\n",
       "      <th>...</th>\n",
       "      <th>GeographicField59A</th>\n",
       "      <th>GeographicField59B</th>\n",
       "      <th>GeographicField60A</th>\n",
       "      <th>GeographicField60B</th>\n",
       "      <th>GeographicField61A</th>\n",
       "      <th>GeographicField61B</th>\n",
       "      <th>GeographicField62A</th>\n",
       "      <th>GeographicField62B</th>\n",
       "      <th>GeographicField63</th>\n",
       "      <th>GeographicField64</th>\n",
       "    </tr>\n",
       "  </thead>\n",
       "  <tbody>\n",
       "    <tr>\n",
       "      <th>0</th>\n",
       "      <td>1</td>\n",
       "      <td>2013-08-16</td>\n",
       "      <td>0</td>\n",
       "      <td>B</td>\n",
       "      <td>23</td>\n",
       "      <td>0.9403</td>\n",
       "      <td>0.0006</td>\n",
       "      <td>965</td>\n",
       "      <td>1.0200</td>\n",
       "      <td>N</td>\n",
       "      <td>...</td>\n",
       "      <td>9</td>\n",
       "      <td>9</td>\n",
       "      <td>-1</td>\n",
       "      <td>8</td>\n",
       "      <td>-1</td>\n",
       "      <td>18</td>\n",
       "      <td>-1</td>\n",
       "      <td>10</td>\n",
       "      <td>N</td>\n",
       "      <td>CA</td>\n",
       "    </tr>\n",
       "    <tr>\n",
       "      <th>1</th>\n",
       "      <td>2</td>\n",
       "      <td>2014-04-22</td>\n",
       "      <td>0</td>\n",
       "      <td>F</td>\n",
       "      <td>7</td>\n",
       "      <td>1.0006</td>\n",
       "      <td>0.0040</td>\n",
       "      <td>548</td>\n",
       "      <td>1.2433</td>\n",
       "      <td>N</td>\n",
       "      <td>...</td>\n",
       "      <td>10</td>\n",
       "      <td>10</td>\n",
       "      <td>-1</td>\n",
       "      <td>11</td>\n",
       "      <td>-1</td>\n",
       "      <td>17</td>\n",
       "      <td>-1</td>\n",
       "      <td>20</td>\n",
       "      <td>N</td>\n",
       "      <td>NJ</td>\n",
       "    </tr>\n",
       "    <tr>\n",
       "      <th>2</th>\n",
       "      <td>4</td>\n",
       "      <td>2014-08-25</td>\n",
       "      <td>0</td>\n",
       "      <td>F</td>\n",
       "      <td>7</td>\n",
       "      <td>1.0006</td>\n",
       "      <td>0.0040</td>\n",
       "      <td>548</td>\n",
       "      <td>1.2433</td>\n",
       "      <td>N</td>\n",
       "      <td>...</td>\n",
       "      <td>15</td>\n",
       "      <td>18</td>\n",
       "      <td>-1</td>\n",
       "      <td>21</td>\n",
       "      <td>-1</td>\n",
       "      <td>11</td>\n",
       "      <td>-1</td>\n",
       "      <td>8</td>\n",
       "      <td>N</td>\n",
       "      <td>NJ</td>\n",
       "    </tr>\n",
       "    <tr>\n",
       "      <th>3</th>\n",
       "      <td>6</td>\n",
       "      <td>2013-04-15</td>\n",
       "      <td>0</td>\n",
       "      <td>J</td>\n",
       "      <td>10</td>\n",
       "      <td>0.9769</td>\n",
       "      <td>0.0004</td>\n",
       "      <td>1,165</td>\n",
       "      <td>1.2665</td>\n",
       "      <td>N</td>\n",
       "      <td>...</td>\n",
       "      <td>6</td>\n",
       "      <td>5</td>\n",
       "      <td>-1</td>\n",
       "      <td>10</td>\n",
       "      <td>-1</td>\n",
       "      <td>9</td>\n",
       "      <td>-1</td>\n",
       "      <td>21</td>\n",
       "      <td>N</td>\n",
       "      <td>TX</td>\n",
       "    </tr>\n",
       "    <tr>\n",
       "      <th>4</th>\n",
       "      <td>8</td>\n",
       "      <td>2014-01-25</td>\n",
       "      <td>0</td>\n",
       "      <td>E</td>\n",
       "      <td>23</td>\n",
       "      <td>0.9472</td>\n",
       "      <td>0.0006</td>\n",
       "      <td>1,487</td>\n",
       "      <td>1.3045</td>\n",
       "      <td>N</td>\n",
       "      <td>...</td>\n",
       "      <td>18</td>\n",
       "      <td>22</td>\n",
       "      <td>-1</td>\n",
       "      <td>10</td>\n",
       "      <td>-1</td>\n",
       "      <td>11</td>\n",
       "      <td>-1</td>\n",
       "      <td>12</td>\n",
       "      <td>N</td>\n",
       "      <td>IL</td>\n",
       "    </tr>\n",
       "  </tbody>\n",
       "</table>\n",
       "<p>5 rows × 299 columns</p>\n",
       "</div>"
      ],
      "text/plain": [
       "   QuoteNumber Original_Quote_Date  QuoteConversion_Flag Field6  Field7  \\\n",
       "0            1          2013-08-16                     0      B      23   \n",
       "1            2          2014-04-22                     0      F       7   \n",
       "2            4          2014-08-25                     0      F       7   \n",
       "3            6          2013-04-15                     0      J      10   \n",
       "4            8          2014-01-25                     0      E      23   \n",
       "\n",
       "   Field8  Field9 Field10  Field11 Field12        ...          \\\n",
       "0  0.9403  0.0006     965   1.0200       N        ...           \n",
       "1  1.0006  0.0040     548   1.2433       N        ...           \n",
       "2  1.0006  0.0040     548   1.2433       N        ...           \n",
       "3  0.9769  0.0004   1,165   1.2665       N        ...           \n",
       "4  0.9472  0.0006   1,487   1.3045       N        ...           \n",
       "\n",
       "   GeographicField59A  GeographicField59B  GeographicField60A  \\\n",
       "0                   9                   9                  -1   \n",
       "1                  10                  10                  -1   \n",
       "2                  15                  18                  -1   \n",
       "3                   6                   5                  -1   \n",
       "4                  18                  22                  -1   \n",
       "\n",
       "   GeographicField60B  GeographicField61A  GeographicField61B  \\\n",
       "0                   8                  -1                  18   \n",
       "1                  11                  -1                  17   \n",
       "2                  21                  -1                  11   \n",
       "3                  10                  -1                   9   \n",
       "4                  10                  -1                  11   \n",
       "\n",
       "   GeographicField62A  GeographicField62B  GeographicField63  \\\n",
       "0                  -1                  10                  N   \n",
       "1                  -1                  20                  N   \n",
       "2                  -1                   8                  N   \n",
       "3                  -1                  21                  N   \n",
       "4                  -1                  12                  N   \n",
       "\n",
       "   GeographicField64  \n",
       "0                 CA  \n",
       "1                 NJ  \n",
       "2                 NJ  \n",
       "3                 TX  \n",
       "4                 IL  \n",
       "\n",
       "[5 rows x 299 columns]"
      ]
     },
     "execution_count": 31,
     "metadata": {},
     "output_type": "execute_result"
    }
   ],
   "source": [
    "#data from this kaggle comp.: https://www.kaggle.com/c/homesite-quote-conversion\n",
    "#I NEED TO ADD MORE COMMENTS, I KNOW!\n",
    "import numpy as np\n",
    "import pandas as pd\n",
    "import matplotlib.pyplot as plt\n",
    "%matplotlib inline\n",
    "pd.set_option('display.mpl_style', 'default') # Make the graphs a bit prettier\n",
    "##check out tutorial here:\n",
    "##http://nbviewer.ipython.org/github/jvns/pandas-cookbook/blob/v0.1/cookbook/Chapter%201%20-%20Reading%20from%20a%20CSV.ipynb\n",
    "df_train = pd.read_csv('train.csv')\n",
    "df_train.head()"
   ]
  },
  {
   "cell_type": "code",
   "execution_count": 32,
   "metadata": {
    "collapsed": false
   },
   "outputs": [
    {
     "data": {
      "text/html": [
       "<div>\n",
       "<table border=\"1\" class=\"dataframe\">\n",
       "  <thead>\n",
       "    <tr style=\"text-align: right;\">\n",
       "      <th></th>\n",
       "      <th>QuoteNumber</th>\n",
       "      <th>Original_Quote_Date</th>\n",
       "      <th>QuoteConversion_Flag</th>\n",
       "      <th>Field6</th>\n",
       "      <th>Field7</th>\n",
       "      <th>Field8</th>\n",
       "      <th>Field9</th>\n",
       "      <th>Field10</th>\n",
       "      <th>Field11</th>\n",
       "      <th>Field12</th>\n",
       "      <th>...</th>\n",
       "      <th>GeographicField59A</th>\n",
       "      <th>GeographicField59B</th>\n",
       "      <th>GeographicField60A</th>\n",
       "      <th>GeographicField60B</th>\n",
       "      <th>GeographicField61A</th>\n",
       "      <th>GeographicField61B</th>\n",
       "      <th>GeographicField62A</th>\n",
       "      <th>GeographicField62B</th>\n",
       "      <th>GeographicField63</th>\n",
       "      <th>GeographicField64</th>\n",
       "    </tr>\n",
       "  </thead>\n",
       "  <tbody>\n",
       "    <tr>\n",
       "      <th>0</th>\n",
       "      <td>1</td>\n",
       "      <td>2013-08-16</td>\n",
       "      <td>0</td>\n",
       "      <td>B</td>\n",
       "      <td>23</td>\n",
       "      <td>0.9403</td>\n",
       "      <td>0.0006</td>\n",
       "      <td>965</td>\n",
       "      <td>1.0200</td>\n",
       "      <td>N</td>\n",
       "      <td>...</td>\n",
       "      <td>9</td>\n",
       "      <td>9</td>\n",
       "      <td>-1</td>\n",
       "      <td>8</td>\n",
       "      <td>-1</td>\n",
       "      <td>18</td>\n",
       "      <td>-1</td>\n",
       "      <td>10</td>\n",
       "      <td>N</td>\n",
       "      <td>CA</td>\n",
       "    </tr>\n",
       "    <tr>\n",
       "      <th>1</th>\n",
       "      <td>2</td>\n",
       "      <td>2014-04-22</td>\n",
       "      <td>0</td>\n",
       "      <td>F</td>\n",
       "      <td>7</td>\n",
       "      <td>1.0006</td>\n",
       "      <td>0.0040</td>\n",
       "      <td>548</td>\n",
       "      <td>1.2433</td>\n",
       "      <td>N</td>\n",
       "      <td>...</td>\n",
       "      <td>10</td>\n",
       "      <td>10</td>\n",
       "      <td>-1</td>\n",
       "      <td>11</td>\n",
       "      <td>-1</td>\n",
       "      <td>17</td>\n",
       "      <td>-1</td>\n",
       "      <td>20</td>\n",
       "      <td>N</td>\n",
       "      <td>NJ</td>\n",
       "    </tr>\n",
       "    <tr>\n",
       "      <th>2</th>\n",
       "      <td>4</td>\n",
       "      <td>2014-08-25</td>\n",
       "      <td>0</td>\n",
       "      <td>F</td>\n",
       "      <td>7</td>\n",
       "      <td>1.0006</td>\n",
       "      <td>0.0040</td>\n",
       "      <td>548</td>\n",
       "      <td>1.2433</td>\n",
       "      <td>N</td>\n",
       "      <td>...</td>\n",
       "      <td>15</td>\n",
       "      <td>18</td>\n",
       "      <td>-1</td>\n",
       "      <td>21</td>\n",
       "      <td>-1</td>\n",
       "      <td>11</td>\n",
       "      <td>-1</td>\n",
       "      <td>8</td>\n",
       "      <td>N</td>\n",
       "      <td>NJ</td>\n",
       "    </tr>\n",
       "    <tr>\n",
       "      <th>3</th>\n",
       "      <td>6</td>\n",
       "      <td>2013-04-15</td>\n",
       "      <td>0</td>\n",
       "      <td>J</td>\n",
       "      <td>10</td>\n",
       "      <td>0.9769</td>\n",
       "      <td>0.0004</td>\n",
       "      <td>1,165</td>\n",
       "      <td>1.2665</td>\n",
       "      <td>N</td>\n",
       "      <td>...</td>\n",
       "      <td>6</td>\n",
       "      <td>5</td>\n",
       "      <td>-1</td>\n",
       "      <td>10</td>\n",
       "      <td>-1</td>\n",
       "      <td>9</td>\n",
       "      <td>-1</td>\n",
       "      <td>21</td>\n",
       "      <td>N</td>\n",
       "      <td>TX</td>\n",
       "    </tr>\n",
       "    <tr>\n",
       "      <th>4</th>\n",
       "      <td>8</td>\n",
       "      <td>2014-01-25</td>\n",
       "      <td>0</td>\n",
       "      <td>E</td>\n",
       "      <td>23</td>\n",
       "      <td>0.9472</td>\n",
       "      <td>0.0006</td>\n",
       "      <td>1,487</td>\n",
       "      <td>1.3045</td>\n",
       "      <td>N</td>\n",
       "      <td>...</td>\n",
       "      <td>18</td>\n",
       "      <td>22</td>\n",
       "      <td>-1</td>\n",
       "      <td>10</td>\n",
       "      <td>-1</td>\n",
       "      <td>11</td>\n",
       "      <td>-1</td>\n",
       "      <td>12</td>\n",
       "      <td>N</td>\n",
       "      <td>IL</td>\n",
       "    </tr>\n",
       "  </tbody>\n",
       "</table>\n",
       "<p>5 rows × 299 columns</p>\n",
       "</div>"
      ],
      "text/plain": [
       "   QuoteNumber Original_Quote_Date  QuoteConversion_Flag Field6  Field7  \\\n",
       "0            1          2013-08-16                     0      B      23   \n",
       "1            2          2014-04-22                     0      F       7   \n",
       "2            4          2014-08-25                     0      F       7   \n",
       "3            6          2013-04-15                     0      J      10   \n",
       "4            8          2014-01-25                     0      E      23   \n",
       "\n",
       "   Field8  Field9 Field10  Field11 Field12        ...          \\\n",
       "0  0.9403  0.0006     965   1.0200       N        ...           \n",
       "1  1.0006  0.0040     548   1.2433       N        ...           \n",
       "2  1.0006  0.0040     548   1.2433       N        ...           \n",
       "3  0.9769  0.0004   1,165   1.2665       N        ...           \n",
       "4  0.9472  0.0006   1,487   1.3045       N        ...           \n",
       "\n",
       "   GeographicField59A  GeographicField59B  GeographicField60A  \\\n",
       "0                   9                   9                  -1   \n",
       "1                  10                  10                  -1   \n",
       "2                  15                  18                  -1   \n",
       "3                   6                   5                  -1   \n",
       "4                  18                  22                  -1   \n",
       "\n",
       "   GeographicField60B  GeographicField61A  GeographicField61B  \\\n",
       "0                   8                  -1                  18   \n",
       "1                  11                  -1                  17   \n",
       "2                  21                  -1                  11   \n",
       "3                  10                  -1                   9   \n",
       "4                  10                  -1                  11   \n",
       "\n",
       "   GeographicField62A  GeographicField62B  GeographicField63  \\\n",
       "0                  -1                  10                  N   \n",
       "1                  -1                  20                  N   \n",
       "2                  -1                   8                  N   \n",
       "3                  -1                  21                  N   \n",
       "4                  -1                  12                  N   \n",
       "\n",
       "   GeographicField64  \n",
       "0                 CA  \n",
       "1                 NJ  \n",
       "2                 NJ  \n",
       "3                 TX  \n",
       "4                 IL  \n",
       "\n",
       "[5 rows x 299 columns]"
      ]
     },
     "execution_count": 32,
     "metadata": {},
     "output_type": "execute_result"
    }
   ],
   "source": [
    "df_train = df_train[0:2000]\n",
    "df_train.head()"
   ]
  },
  {
   "cell_type": "code",
   "execution_count": 33,
   "metadata": {
    "collapsed": false
   },
   "outputs": [
    {
     "name": "stdout",
     "output_type": "stream",
     "text": [
      "(2000, 2)\n"
     ]
    }
   ],
   "source": [
    "#df_train = df_train[1:1000]\n",
    "#see here: http://scikit-learn.org/stable/modules/preprocessing.html#imputation\n",
    "from sklearn.decomposition import PCA #import principal component analysis\n",
    "from sklearn.preprocessing import Imputer\n",
    "from sklearn.preprocessing import scale\n",
    "df_train_nt = df_train.drop('QuoteConversion_Flag', 1)\n",
    "#http://fastml.com/converting-categorical-data-into-numbers-with-pandas-and-scikit-learn/\n",
    "df_hot = pd.get_dummies(df_train_nt)\n",
    "imp = Imputer(missing_values='NaN', strategy='mean', axis=0)\n",
    "imp.fit(df_hot)\n",
    "df_hot_imp = imp.transform(df_hot)\n",
    "pca = PCA(n_components=2) #Instantiate the model & set parameters\n",
    "pca.fit(scale(df_hot_imp)); #Fit the model\n",
    "df_pca = pca.transform(scale(df_hot_imp))#Apply the model. For embeddings / decompositions, this is transform.\n",
    "print(df_pca.shape)"
   ]
  },
  {
   "cell_type": "code",
   "execution_count": 34,
   "metadata": {
    "collapsed": false
   },
   "outputs": [
    {
     "name": "stdout",
     "output_type": "stream",
     "text": [
      "The amount of variance explained by the 1st & 2nd principal components are 0.036 & 0.022 respectively.\n"
     ]
    },
    {
     "data": {
      "image/png": "[encoded data removed]",
      "text/plain": [
       "<matplotlib.figure.Figure at 0x1156285d0>"
      ]
     },
     "metadata": {},
     "output_type": "display_data"
    }
   ],
   "source": [
    "plt.scatter(df_pca[:, 0], df_pca[:, 1] , c = df_train['QuoteConversion_Flag'] , s = 50 , alpha=0.1);\n",
    "print(\"The amount of variance explained by the 1st & 2nd principal components are %s & %s respectively.\" \n",
    "      % (round(pca.explained_variance_ratio_[0],3) , round(pca.explained_variance_ratio_[1],3)))"
   ]
  },
  {
   "cell_type": "code",
   "execution_count": 35,
   "metadata": {
    "collapsed": false
   },
   "outputs": [
    {
     "data": {
      "text/html": [
       "<div>\n",
       "<table border=\"1\" class=\"dataframe\">\n",
       "  <thead>\n",
       "    <tr style=\"text-align: right;\">\n",
       "      <th></th>\n",
       "      <th>Field7</th>\n",
       "      <th>Field8</th>\n",
       "      <th>Field9</th>\n",
       "    </tr>\n",
       "  </thead>\n",
       "  <tbody>\n",
       "    <tr>\n",
       "      <th>0</th>\n",
       "      <td>23</td>\n",
       "      <td>0.9403</td>\n",
       "      <td>0.0006</td>\n",
       "    </tr>\n",
       "    <tr>\n",
       "      <th>1</th>\n",
       "      <td>7</td>\n",
       "      <td>1.0006</td>\n",
       "      <td>0.0040</td>\n",
       "    </tr>\n",
       "    <tr>\n",
       "      <th>2</th>\n",
       "      <td>7</td>\n",
       "      <td>1.0006</td>\n",
       "      <td>0.0040</td>\n",
       "    </tr>\n",
       "    <tr>\n",
       "      <th>3</th>\n",
       "      <td>10</td>\n",
       "      <td>0.9769</td>\n",
       "      <td>0.0004</td>\n",
       "    </tr>\n",
       "    <tr>\n",
       "      <th>4</th>\n",
       "      <td>23</td>\n",
       "      <td>0.9472</td>\n",
       "      <td>0.0006</td>\n",
       "    </tr>\n",
       "  </tbody>\n",
       "</table>\n",
       "</div>"
      ],
      "text/plain": [
       "   Field7  Field8  Field9\n",
       "0      23  0.9403  0.0006\n",
       "1       7  1.0006  0.0040\n",
       "2       7  1.0006  0.0040\n",
       "3      10  0.9769  0.0004\n",
       "4      23  0.9472  0.0006"
      ]
     },
     "execution_count": 35,
     "metadata": {},
     "output_type": "execute_result"
    }
   ],
   "source": [
    "dff = df_hot.ix[:,1:4] #http://stackoverflow.com/questions/11285613/selecting-columns\n",
    "dff.head()"
   ]
  },
  {
   "cell_type": "code",
   "execution_count": 36,
   "metadata": {
    "collapsed": false
   },
   "outputs": [
    {
     "name": "stdout",
     "output_type": "stream",
     "text": [
      "(2000, 3)\n"
     ]
    }
   ],
   "source": [
    "from mpl_toolkits.mplot3d import Axes3D\n",
    "pca3d = PCA(n_components=3) #Instantiate the model & set parameters\n",
    "pca3d.fit(scale(df_hot_imp)); #Fit the model\n",
    "df_pca = pca3d.transform(scale(df_hot_imp))#Apply the model. For embeddings / decompositions, this is transform.\n",
    "print(df_pca.shape)"
   ]
  },
  {
   "cell_type": "code",
   "execution_count": 37,
   "metadata": {
    "collapsed": false
   },
   "outputs": [
    {
     "data": {
      "image/png": "[encoded data removed]",
      "text/plain": [
       "<matplotlib.figure.Figure at 0x11756c050>"
      ]
     },
     "metadata": {},
     "output_type": "display_data"
    }
   ],
   "source": [
    "#http://pythonprogramming.net/matplotlib-3d-scatterplot-tutorial/\n",
    "fig = plt.figure()\n",
    "ax = fig.add_subplot(111, projection='3d')\n",
    "ax.scatter(df_pca[:, 0], df_pca[:, 1], df_pca[:,2], c = df_train['QuoteConversion_Flag'], alpha=0.05)\n",
    "ax.set_xlabel('1st PC')\n",
    "ax.set_ylabel('2nd PC')\n",
    "ax.set_zlabel('3rd PC')\n",
    "plt.show()"
   ]
  },
  {
   "cell_type": "code",
   "execution_count": null,
   "metadata": {
    "collapsed": true
   },
   "outputs": [],
   "source": [
    "#next: remove outliers and check out PCA then."
   ]
  },
  {
   "cell_type": "code",
   "execution_count": 38,
   "metadata": {
    "collapsed": false
   },
   "outputs": [
    {
     "data": {
      "text/plain": [
       "(2000, 1306)"
      ]
     },
     "execution_count": 38,
     "metadata": {},
     "output_type": "execute_result"
    }
   ],
   "source": [
    "df = scale(df_hot_imp) #scaled data\n",
    "np.shape(df)"
   ]
  },
  {
   "cell_type": "markdown",
   "metadata": {},
   "source": [
    "<h2>SPLIT DATA INTO TRAINING AND TEST SETS</h2>"
   ]
  },
  {
   "cell_type": "code",
   "execution_count": 39,
   "metadata": {
    "collapsed": false
   },
   "outputs": [
    {
     "name": "stdout",
     "output_type": "stream",
     "text": [
      "X_train shape: (1800, 1306)\n",
      "y_train shape: (1800,)\n",
      "X_test shape: (200, 1306)\n",
      "y_test shape: (200,)\n"
     ]
    }
   ],
   "source": [
    "from sklearn.cross_validation import train_test_split\n",
    "X_train, X_test, y_train, y_test = train_test_split(df, df_train['QuoteConversion_Flag'], test_size = 0.1, \n",
    "                                                    random_state=0)\n",
    "print(\"X_train shape: %s\" % repr(X_train.shape))\n",
    "print(\"y_train shape: %s\" % repr(y_train.shape))\n",
    "print(\"X_test shape: %s\" % repr(X_test.shape))\n",
    "print(\"y_test shape: %s\" % repr(y_test.shape))"
   ]
  },
  {
   "cell_type": "markdown",
   "metadata": {},
   "source": [
    "<h2>LET'S TRY A LINEAR SVM WITH K-FOLD CROSS VALIDATION</h2>"
   ]
  },
  {
   "cell_type": "code",
   "execution_count": 41,
   "metadata": {
    "collapsed": false
   },
   "outputs": [
    {
     "name": "stderr",
     "output_type": "stream",
     "text": [
      "[Parallel(n_jobs=1)]: Done  49 tasks       | elapsed:   30.9s\n",
      "[Parallel(n_jobs=1)]: Done  60 out of  60 | elapsed:   60.0s finished\n"
     ]
    },
    {
     "name": "stdout",
     "output_type": "stream",
     "text": [
      "Fitting 10 folds for each of 6 candidates, totalling 60 fits\n",
      "{'C': 0.001}\n",
      "0.777777777778\n"
     ]
    },
    {
     "data": {
      "text/plain": [
       "<matplotlib.legend.Legend at 0x115d89310>"
      ]
     },
     "execution_count": 41,
     "metadata": {},
     "output_type": "execute_result"
    },
    {
     "data": {
      "image/png": "[encoded data removed]",
      "text/plain": [
       "<matplotlib.figure.Figure at 0x115a66150>"
      ]
     },
     "metadata": {},
     "output_type": "display_data"
    }
   ],
   "source": [
    "from sklearn.svm import LinearSVC\n",
    "svm = LinearSVC() # Instantiate the model.\n",
    "from sklearn.grid_search import GridSearchCV\n",
    "from sklearn.metrics import classification_report\n",
    "#also see here: http://scikit-learn.org/stable/auto_examples/grid_search_digits.html\n",
    "svm = LinearSVC() # Instantiate the model\n",
    "tuned_parameters = {'C':10.**np.arange(-5,1)}\n",
    "grid_search = GridSearchCV( svm , param_grid = tuned_parameters , cv = 10 ,verbose = 1 )\n",
    "grid_search.fit(X_train, y_train);\n",
    "print(grid_search.best_params_)\n",
    "print(grid_search.best_score_)\n",
    "##see here about the scoring:\n",
    "##http://scikit-learn.org/stable/modules/model_evaluation.html#scoring-parameter\n",
    "##E.g. gives \"accuracy\" for SVMs:\n",
    "##http://scikit-learn.org/stable/modules/generated/sklearn.svm.LinearSVC.html\n",
    "plt.plot([c.mean_validation_score for c in grid_search.grid_scores_], label=\"validation error\")\n",
    "plt.xticks(np.arange(6), tuned_parameters['C']); plt.xlabel(\"C\"); plt.ylabel(\"Accuracy\");plt.legend(loc='best');\n",
    "#see this thread concerning mean_training_score:\n",
    "#http://stackoverflow.com/questions/23389334/how-to-calculate-the-mean-training-score-using-gridsearchcv-in-scikit-learns"
   ]
  },
  {
   "cell_type": "code",
   "execution_count": null,
   "metadata": {
    "collapsed": true
   },
   "outputs": [],
   "source": []
  }
 ],
 "metadata": {
  "kernelspec": {
   "display_name": "Python 2",
   "language": "python",
   "name": "python2"
  },
  "language_info": {
   "codemirror_mode": {
    "name": "ipython",
    "version": 2
   },
   "file_extension": ".py",
   "mimetype": "text/x-python",
   "name": "python",
   "nbconvert_exporter": "python",
   "pygments_lexer": "ipython2",
   "version": "2.7.10"
  }
 },
 "nbformat": 4,
 "nbformat_minor": 0
}
