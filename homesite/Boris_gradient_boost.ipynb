{
 "cells": [
  {
   "cell_type": "markdown",
   "metadata": {},
   "source": [
    "# Homesite"
   ]
  },
  {
   "cell_type": "code",
   "execution_count": 1,
   "metadata": {
    "collapsed": false
   },
   "outputs": [
    {
     "name": "stdout",
     "output_type": "stream",
     "text": [
      "Using Theano backend.\n"
     ]
    }
   ],
   "source": [
    "import pandas as pd\n",
    "import numpy as np\n",
    "import copy\n",
    "import csv\n",
    "from sklearn import linear_model\n",
    "import xgboost as xgb\n",
    "from sklearn.ensemble import RandomForestClassifier\n",
    "from keras.models import Sequential\n",
    "from keras.layers.core import Dense, Dropout, Activation\n",
    "from keras.optimizers import SGD\n",
    "from sklearn import svm\n",
    "\n"
   ]
  },
  {
   "cell_type": "code",
   "execution_count": 2,
   "metadata": {
    "collapsed": false
   },
   "outputs": [],
   "source": [
    "def ReplaceWithDummies(column, *DataFrames):\n",
    "    #The purpose of this function is to replace a column of type 'object' with n distict values,\n",
    "    #common to all DataFrames passed in\n",
    "    #For example train and test data sets, with n-1 boolean columns as delete the original culmnn\n",
    "    for df in DataFrames: #Make sure the column is actually in all data frames\n",
    "        if column not in df.columns:\n",
    "            print('column not found')\n",
    "            return None\n",
    "    size=[]\n",
    "    for df in DataFrames:\n",
    "        size.append(df.shape[0])\n",
    "    \n",
    "    long_column=[]\n",
    "    for i in range(len(DataFrames)):\n",
    "        long_column.append(DataFrames[i][column])\n",
    "    long_column = pd.concat(long_column)\n",
    "    dummies = pd.get_dummies(long_column)\n",
    "    dummies.drop(list(dummies.columns)[0], axis=1, inplace=True) # dropping one column from dummies\n",
    "    \n",
    "    Dummies =[] # As list of dummies to append to the list of DataFrames in order \n",
    "    for s in size:\n",
    "        Dummies.append(dummies[:s])\n",
    "        dummies=dummies[s:]\n",
    "    \n",
    "    #drop the column that needs replacing\n",
    "    for df in DataFrames:\n",
    "        df.drop(column, axis=1, inplace=True)\n",
    "\n",
    "    \n",
    "    #Now append the dummy variables:\n",
    "\n",
    "    for i,df in enumerate(DataFrames):\n",
    "        for column_type in Dummies[i]:     \n",
    "            new_name=str(column) +'_'+ str(column_type)\n",
    "            df[new_name]=Dummies[i][column_type]\n",
    "    return DataFrames\n",
    "    \n",
    "                "
   ]
  },
  {
   "cell_type": "code",
   "execution_count": 3,
   "metadata": {
    "collapsed": false
   },
   "outputs": [],
   "source": [
    "tr=pd.read_csv('train.csv')\n",
    "te=pd.read_csv('test.csv')"
   ]
  },
  {
   "cell_type": "code",
   "execution_count": null,
   "metadata": {
    "collapsed": false
   },
   "outputs": [],
   "source": [
    "#Run for local testing\n",
    "\n",
    "n= len(tr)\n",
    "n = int(n*(float(2)/float(3)))\n",
    "train = copy.deepcopy(tr[:n])\n",
    "m=int((len(tr)-n)/2)\n",
    "validation = copy.deepcopy(tr[n:n+m])\n",
    "test = copy.deepcopy(tr[n+m:])\n",
    "\n"
   ]
  },
  {
   "cell_type": "code",
   "execution_count": 4,
   "metadata": {
    "collapsed": true
   },
   "outputs": [],
   "source": [
    "#Use this for the real thing\n",
    "train = tr[:]\n",
    "validation = te[:]\n",
    "test=te[:]"
   ]
  },
  {
   "cell_type": "code",
   "execution_count": 6,
   "metadata": {
    "collapsed": false
   },
   "outputs": [],
   "source": [
    "#dropping useless columns\n",
    "for c in train.drop('QuoteConversion_Flag', axis=1):\n",
    "    x=train[c].unique()\n",
    "    if len(x) < 2:\n",
    "        for frame in ALL:\n",
    "            frame.drop(c, axis=1, inplace=True)\n",
    "#rescaling\n",
    "for c in train.drop('QuoteConversion_Flag', axis=1):\n",
    "    if train[c].dtype != 'object':\n",
    "        mean=train[c].mean()\n",
    "        std = train[c].std()\n",
    "        if std > 0.0001:\n",
    "            for frame in ALL:\n",
    "                frame = (frame[c]-mean)/std"
   ]
  },
  {
   "cell_type": "code",
   "execution_count": 7,
   "metadata": {
    "collapsed": false
   },
   "outputs": [],
   "source": [
    "#Replacing all categorical variables with dummy variables\n",
    "for column in train:\n",
    "    if train[column].dtype == 'object':\n",
    "        train, validation, test = ReplaceWithDummies(column, train, validation, test)\n",
    "    "
   ]
  },
  {
   "cell_type": "code",
   "execution_count": null,
   "metadata": {
    "collapsed": true
   },
   "outputs": [],
   "source": [
    "#Run this for partial\n",
    "\n",
    "X_train=train.drop('QuoteConversion_Flag', axis=1)\n",
    "X_test=test.drop('QuoteConversion_Flag', axis=1)\n",
    "X_validation=test.drop('QuoteConversion_Flag', axis=1)\n",
    "y_train=train['QuoteConversion_Flag']\n",
    "y_test=test['QuoteConversion_Flag']\n",
    "y_validation=validation['QuoteConversion_Flag']"
   ]
  },
  {
   "cell_type": "code",
   "execution_count": 8,
   "metadata": {
    "collapsed": true
   },
   "outputs": [],
   "source": [
    "#Run this for full\n",
    "X_train=train.drop('QuoteConversion_Flag', axis=1)\n",
    "y_train=train['QuoteConversion_Flag']\n",
    "X_validation= validation"
   ]
  },
  {
   "cell_type": "code",
   "execution_count": null,
   "metadata": {
    "collapsed": true
   },
   "outputs": [],
   "source": [
    "#Support Vector machine\n",
    "model_svc = svm.SVC()\n",
    "model_svc.fit(X_train, y_train)\n",
    "print(sum(y_train))\n",
    "print(1-sum(abs(np.array(y_train)-np.array(model_svc.predict(X_train))))/float(len(y_train)))"
   ]
  },
  {
   "cell_type": "code",
   "execution_count": 35,
   "metadata": {
    "collapsed": false
   },
   "outputs": [],
   "source": [
    "#Logistioc regression\n",
    "model = linear_model.LogisticRegression(C=0.1)\n",
    "model.fit(X_train, y_train)\n",
    "predictions=model.predict_proba(X_validation)[:,1]\n",
    "#print(sum(y_train))\n",
    "#print(1-sum(abs(np.array(y_train)-np.array(model.predict(X_train))))/float(len(y_train)))\n",
    "#p1=model.predict(validation)\n",
    "#print(sum(y_validation))\n",
    "#print(1-sum(abs(np.array(y_validation)-np.array(model.predict(X_validation))))/float(len(y_validation)))\n"
   ]
  },
  {
   "cell_type": "code",
   "execution_count": 9,
   "metadata": {
    "collapsed": false
   },
   "outputs": [],
   "source": [
    "#Gradient boosting \n",
    "model_xgb = xgb.DMatrix(np.array(X_train), label=np.array(y_train))\n",
    "bst = xgb.train({'objective':'reg:logistic'},dtrain=model_xgb)\n",
    "predictions = bst.predict(xgb.DMatrix(X_validation))\n",
    "#predictions = bst.predict(xgb.DMatrix(X_train))\n",
    "#predictions_binary = []\n",
    "#for x in list(predictions):\n",
    "#    if x>=0.5:\n",
    "#        predictions_binary.append(1)\n",
    "#    else:\n",
    "#        predictions_binary.append(0)\n",
    "\n",
    "#print(sum(y_train))\n",
    "#print(1-sum(abs(np.array(y_train)-np.array(predictions_binary)))/float(len(y_train)))"
   ]
  },
  {
   "cell_type": "code",
   "execution_count": 34,
   "metadata": {
    "collapsed": false
   },
   "outputs": [
    {
     "ename": "IndexError",
     "evalue": "too many indices for array",
     "output_type": "error",
     "traceback": [
      "\u001b[0;31m---------------------------------------------------------------------------\u001b[0m",
      "\u001b[0;31mIndexError\u001b[0m                                Traceback (most recent call last)",
      "\u001b[0;32m<ipython-input-34-76cdcb527ee5>\u001b[0m in \u001b[0;36m<module>\u001b[0;34m()\u001b[0m\n\u001b[0;32m----> 1\u001b[0;31m \u001b[0mpredictions\u001b[0m \u001b[0;34m=\u001b[0m \u001b[0;34m(\u001b[0m\u001b[0mbst\u001b[0m\u001b[0;34m.\u001b[0m\u001b[0mpredict\u001b[0m\u001b[0;34m(\u001b[0m\u001b[0mxgb\u001b[0m\u001b[0;34m.\u001b[0m\u001b[0mDMatrix\u001b[0m\u001b[0;34m(\u001b[0m\u001b[0mX_validation\u001b[0m\u001b[0;34m)\u001b[0m\u001b[0;34m)\u001b[0m\u001b[0;34m)\u001b[0m\u001b[0;34m[\u001b[0m\u001b[0;34m:\u001b[0m\u001b[0;34m,\u001b[0m\u001b[0;36m1\u001b[0m\u001b[0;34m]\u001b[0m\u001b[0;34m\u001b[0m\u001b[0m\n\u001b[0m\u001b[1;32m      2\u001b[0m \u001b[0;31m#predictions_binary = []\u001b[0m\u001b[0;34m\u001b[0m\u001b[0;34m\u001b[0m\u001b[0m\n\u001b[1;32m      3\u001b[0m \u001b[0;31m#for x in list(predictions):\u001b[0m\u001b[0;34m\u001b[0m\u001b[0;34m\u001b[0m\u001b[0m\n\u001b[1;32m      4\u001b[0m \u001b[0;31m#    if x>=0.5:\u001b[0m\u001b[0;34m\u001b[0m\u001b[0;34m\u001b[0m\u001b[0m\n\u001b[1;32m      5\u001b[0m \u001b[0;31m#        predictions_binary.append(1)\u001b[0m\u001b[0;34m\u001b[0m\u001b[0;34m\u001b[0m\u001b[0m\n",
      "\u001b[0;31mIndexError\u001b[0m: too many indices for array"
     ]
    }
   ],
   "source": [
    "predictions = bst.predict(xgb.DMatrix(X_validation))\n",
    "#predictions_binary = []\n",
    "#for x in list(predictions):\n",
    "#    if x>=0.5:\n",
    "#        predictions_binary.append(1)\n",
    "#    else:\n",
    "#        predictions_binary.append(0)\n",
    "#print(sum(y_train))\n",
    "#print(1-sum(abs(np.array(y_validation)-np.array(predictions_binary)))/float(len(y_validation)))\n",
    "#p2=predictions_binary"
   ]
  },
  {
   "cell_type": "code",
   "execution_count": 17,
   "metadata": {
    "collapsed": false
   },
   "outputs": [
    {
     "data": {
      "text/plain": [
       "173836"
      ]
     },
     "execution_count": 17,
     "metadata": {},
     "output_type": "execute_result"
    }
   ],
   "source": [
    "len(p1)"
   ]
  },
  {
   "cell_type": "code",
   "execution_count": null,
   "metadata": {
    "collapsed": false
   },
   "outputs": [],
   "source": [
    "#Let's try random forest\n",
    "\n",
    "rfc_model = RandomForestClassifier(n_estimators = 10, n_jobs=-1)\n",
    "rfc_model.fit(X_train,y_train)\n",
    "print(sum(y_train))\n",
    "print(1-sum(abs(np.array(y_train)-np.array(rfc_model.predict(X_train))))/float(len(y_train)))\n",
    "#predict2=rfc_model.predict(validation)\n",
    "#print(sum(y_validation))\n",
    "#print(1-sum(abs(np.array(y_validation)-np.array(rfc_model.predict(X_validation))))/float(len(y_validation)))\n",
    "p3=rfc_model.predict(X_validation)"
   ]
  },
  {
   "cell_type": "code",
   "execution_count": null,
   "metadata": {
    "collapsed": false
   },
   "outputs": [],
   "source": [
    "#Not run for full\n",
    "ensemble_train =list(np.logical_or(np.array(p1),np.array(p2), np.array(p3)))\n",
    "ensemble_train = int(ensemble_train==1)\n",
    "print(1-sum(abs(np.array(y_train)-np.array(ensemble_train)))/float(len(y_train)))\n",
    "\n",
    "ensemble_validation =list(np.logical_or(np.array(model.predict(X_validation)),np.array(rfc_model.predict(X_validation))))\n",
    "ensemble_validation = int(ensemble_validation==1)\n",
    "print(1-sum(abs(np.array(y_validation)-np.array(ensemble_validation)))/float(len(y_validation)))"
   ]
  },
  {
   "cell_type": "code",
   "execution_count": null,
   "metadata": {
    "collapsed": false
   },
   "outputs": [],
   "source": [
    "ensemble_predict =np.logical_or(np.array(p1),np.array(p2), np.array(p3)).astype(int)\n",
    "len(ensemble_predict)\n"
   ]
  },
  {
   "cell_type": "code",
   "execution_count": 31,
   "metadata": {
    "collapsed": false
   },
   "outputs": [],
   "source": [
    "#creates the ouput to be submitted\n",
    "output =pd.DataFrame()\n",
    "output[\"QuoteNumber\"] = te[\"QuoteNumber\"]\n",
    "output[\"QuoteConversion_Flag\"] = predictions\n",
    "output.to_csv(\"output_logistic.csv\", index=False)\n",
    "\n",
    "\n"
   ]
  },
  {
   "cell_type": "code",
   "execution_count": null,
   "metadata": {
    "collapsed": false
   },
   "outputs": [],
   "source": [
    "#attempt at neural network: not working right now\n",
    "\n",
    "model = Sequential()\n",
    "\n",
    "# Dense(64) is a fully-connected layer with 64 hidden units.\n",
    "# in the first layer, you must specify the expected input data shape:\n",
    "# here, 20-dimensional vectors.\n",
    "model.add(Dense(64, input_dim=584, init='uniform'))\n",
    "#model.add(Activation('tanh'))\n",
    "#model.add(Dropout(0.5))\n",
    "#model.add(Dense(64, init='uniform'))\n",
    "#model.add(Activation('tanh'))\n",
    "#model.add(Dropout(0.5))\n",
    "#model.add(Dense(2, init='uniform'))\n",
    "#model.add(Activation('softmax'))\n",
    "\n",
    "#sgd = SGD(lr=0.1, decay=1e-6, momentum=0.9, nesterov=True)\n",
    "model.compile(loss='mean_squared_error', optimizer='sgd')\n",
    "\n",
    "model.fit(X_train1, y_train1)"
   ]
  },
  {
   "cell_type": "code",
   "execution_count": null,
   "metadata": {
    "collapsed": false
   },
   "outputs": [],
   "source": []
  },
  {
   "cell_type": "code",
   "execution_count": null,
   "metadata": {
    "collapsed": true
   },
   "outputs": [],
   "source": []
  },
  {
   "cell_type": "code",
   "execution_count": null,
   "metadata": {
    "collapsed": true
   },
   "outputs": [],
   "source": []
  },
  {
   "cell_type": "code",
   "execution_count": null,
   "metadata": {
    "collapsed": true
   },
   "outputs": [],
   "source": []
  },
  {
   "cell_type": "code",
   "execution_count": null,
   "metadata": {
    "collapsed": true
   },
   "outputs": [],
   "source": []
  },
  {
   "cell_type": "markdown",
   "metadata": {},
   "source": [
    "https://www.kaggle.com/mpearmain/homesite-quote-conversion/xgboost-benchmark/discussion"
   ]
  },
  {
   "cell_type": "code",
   "execution_count": null,
   "metadata": {
    "collapsed": true
   },
   "outputs": [],
   "source": []
  },
  {
   "cell_type": "code",
   "execution_count": null,
   "metadata": {
    "collapsed": true
   },
   "outputs": [],
   "source": []
  },
  {
   "cell_type": "code",
   "execution_count": null,
   "metadata": {
    "collapsed": true
   },
   "outputs": [],
   "source": []
  },
  {
   "cell_type": "code",
   "execution_count": null,
   "metadata": {
    "collapsed": true
   },
   "outputs": [],
   "source": []
  }
 ],
 "metadata": {
  "kernelspec": {
   "display_name": "Python 3",
   "language": "python",
   "name": "python3"
  },
  "language_info": {
   "codemirror_mode": {
    "name": "ipython",
    "version": 3
   },
   "file_extension": ".py",
   "mimetype": "text/x-python",
   "name": "python",
   "nbconvert_exporter": "python",
   "pygments_lexer": "ipython3",
   "version": "3.4.3"
  }
 },
 "nbformat": 4,
 "nbformat_minor": 0
}
