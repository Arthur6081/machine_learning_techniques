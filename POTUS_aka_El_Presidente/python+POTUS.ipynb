{
 "cells": [
  {
   "cell_type": "markdown",
   "metadata": {},
   "source": [
    "<h1>MUCKING AROUND WITH POTUS DATA AND MACHINE LEARNING</h1>"
   ]
  },
  {
   "cell_type": "markdown",
   "metadata": {},
   "source": [
    "<h2>IMPORT SOME LIBRARIES AND READ IN DATA</h2>"
   ]
  },
  {
   "cell_type": "code",
   "execution_count": 20,
   "metadata": {
    "collapsed": false
   },
   "outputs": [
    {
     "data": {
      "text/html": [
       "<div style=\"max-height:1000px;max-width:1500px;overflow:auto;\">\n",
       "<table border=\"1\" class=\"dataframe\">\n",
       "  <thead>\n",
       "    <tr style=\"text-align: right;\">\n",
       "      <th></th>\n",
       "      <th>Total population</th>\n",
       "      <th>Median age</th>\n",
       "      <th>% BachelorsDeg or higher</th>\n",
       "      <th>Unemployment rate</th>\n",
       "      <th>Per capita income</th>\n",
       "      <th>Total households</th>\n",
       "      <th>Average household size</th>\n",
       "      <th>% Owner occupied housing</th>\n",
       "      <th>% Renter occupied housing</th>\n",
       "      <th>% Vacant housing</th>\n",
       "      <th>Median home value</th>\n",
       "      <th>Population growth</th>\n",
       "      <th>House hold growth</th>\n",
       "      <th>Per capita income growth</th>\n",
       "      <th>Winner</th>\n",
       "      <th>Win_bin</th>\n",
       "    </tr>\n",
       "  </thead>\n",
       "  <tbody>\n",
       "    <tr>\n",
       "      <th>0</th>\n",
       "      <td>   9278</td>\n",
       "      <td> 37.9</td>\n",
       "      <td> 12.6</td>\n",
       "      <td> 21.3</td>\n",
       "      <td> 13992</td>\n",
       "      <td>   3802</td>\n",
       "      <td> 2.42</td>\n",
       "      <td> 51.9</td>\n",
       "      <td> 16.6</td>\n",
       "      <td> 31.6</td>\n",
       "      <td>  63959</td>\n",
       "      <td>-0.69</td>\n",
       "      <td>-0.49</td>\n",
       "      <td> 0.71</td>\n",
       "      <td> Barack Obama</td>\n",
       "      <td> True</td>\n",
       "    </tr>\n",
       "    <tr>\n",
       "      <th>1</th>\n",
       "      <td>  18594</td>\n",
       "      <td> 36.3</td>\n",
       "      <td>  9.7</td>\n",
       "      <td> 14.3</td>\n",
       "      <td> 14622</td>\n",
       "      <td>   6764</td>\n",
       "      <td> 2.55</td>\n",
       "      <td> 63.7</td>\n",
       "      <td> 16.2</td>\n",
       "      <td> 20.1</td>\n",
       "      <td>  74330</td>\n",
       "      <td>-0.13</td>\n",
       "      <td> 0.03</td>\n",
       "      <td> 0.85</td>\n",
       "      <td> Barack Obama</td>\n",
       "      <td> True</td>\n",
       "    </tr>\n",
       "    <tr>\n",
       "      <th>2</th>\n",
       "      <td> 662628</td>\n",
       "      <td> 37.9</td>\n",
       "      <td> 27.9</td>\n",
       "      <td> 12.1</td>\n",
       "      <td> 23909</td>\n",
       "      <td> 267862</td>\n",
       "      <td> 2.41</td>\n",
       "      <td> 57.0</td>\n",
       "      <td> 28.8</td>\n",
       "      <td> 14.2</td>\n",
       "      <td> 112687</td>\n",
       "      <td>-0.09</td>\n",
       "      <td> 0.00</td>\n",
       "      <td> 0.55</td>\n",
       "      <td> Barack Obama</td>\n",
       "      <td> True</td>\n",
       "    </tr>\n",
       "    <tr>\n",
       "      <th>3</th>\n",
       "      <td>  21292</td>\n",
       "      <td> 38.9</td>\n",
       "      <td> 14.1</td>\n",
       "      <td> 15.7</td>\n",
       "      <td> 16829</td>\n",
       "      <td>   8547</td>\n",
       "      <td> 2.47</td>\n",
       "      <td> 63.5</td>\n",
       "      <td> 17.1</td>\n",
       "      <td> 19.4</td>\n",
       "      <td>  73643</td>\n",
       "      <td>-0.59</td>\n",
       "      <td>-0.43</td>\n",
       "      <td> 0.57</td>\n",
       "      <td> Barack Obama</td>\n",
       "      <td> True</td>\n",
       "    </tr>\n",
       "    <tr>\n",
       "      <th>4</th>\n",
       "      <td>  13252</td>\n",
       "      <td> 34.5</td>\n",
       "      <td> 15.0</td>\n",
       "      <td> 15.8</td>\n",
       "      <td> 13012</td>\n",
       "      <td>   5222</td>\n",
       "      <td> 2.47</td>\n",
       "      <td> 53.7</td>\n",
       "      <td> 20.7</td>\n",
       "      <td> 25.6</td>\n",
       "      <td>  56642</td>\n",
       "      <td>-1.16</td>\n",
       "      <td>-1.03</td>\n",
       "      <td> 0.69</td>\n",
       "      <td> Barack Obama</td>\n",
       "      <td> True</td>\n",
       "    </tr>\n",
       "  </tbody>\n",
       "</table>\n",
       "</div>"
      ],
      "text/plain": [
       "   Total population  Median age  % BachelorsDeg or higher  Unemployment rate  \\\n",
       "0              9278        37.9                      12.6               21.3   \n",
       "1             18594        36.3                       9.7               14.3   \n",
       "2            662628        37.9                      27.9               12.1   \n",
       "3             21292        38.9                      14.1               15.7   \n",
       "4             13252        34.5                      15.0               15.8   \n",
       "\n",
       "   Per capita income  Total households  Average household size  \\\n",
       "0              13992              3802                    2.42   \n",
       "1              14622              6764                    2.55   \n",
       "2              23909            267862                    2.41   \n",
       "3              16829              8547                    2.47   \n",
       "4              13012              5222                    2.47   \n",
       "\n",
       "   % Owner occupied housing  % Renter occupied housing  % Vacant housing  \\\n",
       "0                      51.9                       16.6              31.6   \n",
       "1                      63.7                       16.2              20.1   \n",
       "2                      57.0                       28.8              14.2   \n",
       "3                      63.5                       17.1              19.4   \n",
       "4                      53.7                       20.7              25.6   \n",
       "\n",
       "   Median home value  Population growth  House hold growth  \\\n",
       "0              63959              -0.69              -0.49   \n",
       "1              74330              -0.13               0.03   \n",
       "2             112687              -0.09               0.00   \n",
       "3              73643              -0.59              -0.43   \n",
       "4              56642              -1.16              -1.03   \n",
       "\n",
       "   Per capita income growth        Winner Win_bin  \n",
       "0                      0.71  Barack Obama    True  \n",
       "1                      0.85  Barack Obama    True  \n",
       "2                      0.55  Barack Obama    True  \n",
       "3                      0.57  Barack Obama    True  \n",
       "4                      0.69  Barack Obama    True  "
      ]
     },
     "execution_count": 20,
     "metadata": {},
     "output_type": "execute_result"
    }
   ],
   "source": [
    "import numpy as np\n",
    "import pandas as pd\n",
    "import matplotlib.pyplot as plt\n",
    "%matplotlib inline\n",
    "pd.set_option('display.mpl_style', 'default') # Make the graphs a bit prettier\n",
    "##check out tutorial here:\n",
    "##http://nbviewer.ipython.org/github/jvns/pandas-cookbook/blob/v0.1/cookbook/Chapter%201%20-%20Reading%20from%20a%20CSV.ipynb\n",
    "df = pd.read_csv('train.csv')\n",
    "df1 = df.drop('Winner', 1)\n",
    "df['Win_bin'] = (df['Winner'] == 'Barack Obama') ##new column: logical wrt winner\n",
    "df.head()"
   ]
  },
  {
   "cell_type": "markdown",
   "metadata": {},
   "source": [
    "<h2>VISUALIZE THE DATA (1ST AND 2ND PRINCIPAL COMPONENTS)</h2>"
   ]
  },
  {
   "cell_type": "code",
   "execution_count": 2,
   "metadata": {
    "collapsed": false
   },
   "outputs": [
    {
     "name": "stdout",
     "output_type": "stream",
     "text": [
      "(1213, 2)\n"
     ]
    },
    {
     "data": {
      "image/png": "[encoded data removed]",
      "text/plain": [
       "<matplotlib.figure.Figure at 0x109a4f290>"
      ]
     },
     "metadata": {},
     "output_type": "display_data"
    }
   ],
   "source": [
    "##using (parts of) andreas mueller's intro. to scikit-learn as a pseudo-template for analyzing \n",
    "##the POTUS data:\n",
    "##https://github.com/amueller/sklearn_tutorial/blob/master/presentation.ipynb\n",
    "from sklearn.decomposition import PCA #import principal component analysis\n",
    "pca = PCA(n_components=2) #Instantiate the model & set parameters\n",
    "pca.fit(df1); #Fit the model\n",
    "df_pca = pca.transform(df1)#Apply the model. For embeddings / decompositions, this is transform.\n",
    "print(df_pca.shape)\n",
    "plt.scatter(df_pca[:, 0], df_pca[:, 1] , c = df['Win_bin'] , s = 50 , alpha=0.4);"
   ]
  },
  {
   "cell_type": "markdown",
   "metadata": {},
   "source": [
    "<h2>SPLIT DATA INTO TRAINING AND TEST SETS</h2>"
   ]
  },
  {
   "cell_type": "code",
   "execution_count": 3,
   "metadata": {
    "collapsed": false
   },
   "outputs": [
    {
     "name": "stdout",
     "output_type": "stream",
     "text": [
      "X_train shape: (909, 14)\n",
      "y_train shape: (909,)\n",
      "X_test shape: (304, 14)\n",
      "y_test shape: (304,)\n"
     ]
    }
   ],
   "source": [
    "from sklearn.cross_validation import train_test_split\n",
    "X_train, X_test, y_train, y_test = train_test_split(df1, df['Win_bin'], random_state=0)\n",
    "print(\"X_train shape: %s\" % repr(X_train.shape))\n",
    "print(\"y_train shape: %s\" % repr(y_train.shape))\n",
    "print(\"X_test shape: %s\" % repr(X_test.shape))\n",
    "print(\"y_test shape: %s\" % repr(y_test.shape))"
   ]
  },
  {
   "cell_type": "markdown",
   "metadata": {},
   "source": [
    "<h2>LET'S TRY A LINEAR SVM</h2>"
   ]
  },
  {
   "cell_type": "code",
   "execution_count": 4,
   "metadata": {
    "collapsed": false
   },
   "outputs": [
    {
     "name": "stdout",
     "output_type": "stream",
     "text": [
      "0.771177117712\n",
      "0.815789473684\n"
     ]
    }
   ],
   "source": [
    "from sklearn.svm import LinearSVC\n",
    "svm = LinearSVC() # Instantiate the model.\n",
    "svm.fit(X_train, y_train);#Fit the model.\n",
    "svm.predict(X_train)# apply the model to the hold-out set\n",
    "print(svm.score(X_train, y_train))\n",
    "print(svm.score(X_test, y_test))"
   ]
  },
  {
   "cell_type": "markdown",
   "metadata": {},
   "source": [
    "<h2>NOW LET'S TRY A SVM WITH A GAUSSIAN KERNEL</h2>"
   ]
  },
  {
   "cell_type": "code",
   "execution_count": 5,
   "metadata": {
    "collapsed": false
   },
   "outputs": [
    {
     "name": "stdout",
     "output_type": "stream",
     "text": [
      "1.0\n",
      "0.815789473684\n"
     ]
    }
   ],
   "source": [
    "from sklearn.svm import SVC\n",
    "svm = SVC(kernel='rbf')# Instantiate the model (SVM w/ Gaussian kernel)\n",
    "svm.fit(X_train, y_train);#Fit the model.\n",
    "svm.predict(X_train)# apply the model to the hold-out set\n",
    "print(svm.score(X_train, y_train))\n",
    "print(svm.score(X_test, y_test))"
   ]
  },
  {
   "cell_type": "markdown",
   "metadata": {},
   "source": [
    "<h2>IT'S TIME TO TRY A RANDOM FOREST</h2>"
   ]
  },
  {
   "cell_type": "code",
   "execution_count": 8,
   "metadata": {
    "collapsed": false
   },
   "outputs": [
    {
     "name": "stdout",
     "output_type": "stream",
     "text": [
      "0.979097909791\n",
      "0.838815789474\n"
     ]
    }
   ],
   "source": [
    "from sklearn.ensemble import RandomForestClassifier\n",
    "#a random forest builds many randomized decision trees and averages their results.\n",
    "rf = RandomForestClassifier() #Instantiate the model.\n",
    "rf.fit(X_train , y_train); #fit the model\n",
    "print(rf.score(X_train , y_train)) #evaluate the model on the training set\n",
    "print( rf.score(X_test , y_test)) #evaluate the model on the hold-out set"
   ]
  },
  {
   "cell_type": "markdown",
   "metadata": {},
   "source": [
    "<h2>NOW FOR CROSS-VALIDATION</h2>"
   ]
  },
  {
   "cell_type": "code",
   "execution_count": 23,
   "metadata": {
    "collapsed": false
   },
   "outputs": [
    {
     "name": "stdout",
     "output_type": "stream",
     "text": [
      "the set of scores on the five CV sets are:  [ 0.79781421  0.80769231  0.80769231  0.79005525  0.83425414]\n",
      "the mean score is 0.80750164306\n",
      "the SD of the scores in 0.0149264334484\n"
     ]
    }
   ],
   "source": [
    "from sklearn.cross_validation import cross_val_score\n",
    "scores = cross_val_score( rf , X_train , y_train , cv = 5)\n",
    "print( \"the set of scores on the five CV sets are:  %s\" % (str(scores)))\n",
    "print( \"the mean score is %s\" % np.mean(scores))\n",
    "print( \"the SD of the scores in %s\" % np.std(scores))"
   ]
  },
  {
   "cell_type": "markdown",
   "metadata": {},
   "source": [
    "<h2>NOW WE'RE GOING TO TRY A BUNCH OF SVMs (LINEAR, POLYNOMIAL & GAUSSIAN KERNELS) AND PERFORM\n",
    "A GRID SEARCH OVER THE HYPERPARAMETERS (TUNING THEM), SELECTING FOR PRECISION</h2>"
   ]
  },
  {
   "cell_type": "code",
   "execution_count": null,
   "metadata": {
    "collapsed": false
   },
   "outputs": [],
   "source": [
    "from sklearn.grid_search import GridSearchCV\n",
    "from sklearn.metrics import classification_report\n",
    "from sklearn.svm import SVC\n",
    "from sklearn import svm, metrics, preprocessing\n",
    "import csv\n",
    "import time\n",
    "# Set the parameters by cross-validation\n",
    "\n",
    "start_time = time.time()\n",
    "\n",
    "tuned_parameters = [{'kernel': ['rbf'], 'gamma': [1e-3, 1e-4],\n",
    "                     'C': [1, 10]},\n",
    "                    {'kernel': ['linear'], 'C': [1, 10]},{'C': [1, 10, 100, 1000], 'gamma': [0.001, 0.0001], 'kernel': ['poly'], 'degree': [2]},\n",
    "                    {'C': [1, 10, 100, 1000], 'gamma': [0.001, 0.0001], 'kernel': ['poly'], 'degree': [3]},\n",
    "                    {'C': [1, 10, 100, 1000], 'gamma': [0.001, 0.0001], 'kernel': ['poly'], 'degree': [4]}]\n",
    "\n",
    "\n",
    "scores = ['precision'] # you can alter this by adding, for example, `recall'\n",
    "\n",
    "for score in scores:\n",
    "    print(\"# Tuning hyper-parameters for %s\" % score)\n",
    "    print()\n",
    "\n",
    "    clf = GridSearchCV(SVC(C=1), tuned_parameters)\n",
    "    clf.fit(X_train, y_train)\n",
    "\n",
    "    print(\"Best parameters set found on development set:\")\n",
    "    print()\n",
    "    print(clf.best_estimator_)\n",
    "    print()\n",
    "    print(\"Grid scores on development set:\")\n",
    "    print()\n",
    "    for params, mean_score, scores in clf.grid_scores_:\n",
    "        print(\"%0.3f (+/-%0.03f) for %s\"\n",
    "              % (mean_score, scores.std() / 2, params))\n",
    "    print()\n",
    "    \n",
    "print(time.time()- start_time)"
   ]
  },
  {
   "cell_type": "code",
   "execution_count": null,
   "metadata": {
    "collapsed": true
   },
   "outputs": [],
   "source": []
  }
 ],
 "metadata": {
  "kernelspec": {
   "display_name": "Python 2",
   "language": "python",
   "name": "python2"
  },
  "language_info": {
   "codemirror_mode": {
    "name": "ipython",
    "version": 2
   },
   "file_extension": ".py",
   "mimetype": "text/x-python",
   "name": "python",
   "nbconvert_exporter": "python",
   "pygments_lexer": "ipython2",
   "version": "2.7.10"
  }
 },
 "nbformat": 4,
 "nbformat_minor": 0
}
