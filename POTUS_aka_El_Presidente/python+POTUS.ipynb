{
 "cells": [
  {
   "cell_type": "markdown",
   "metadata": {},
   "source": [
    "IMPORT SOME LIBRARIES AND READ IN DATA"
   ]
  },
  {
   "cell_type": "code",
   "execution_count": null,
   "metadata": {
    "collapsed": false
   },
   "outputs": [],
   "source": [
    "import pandas as pd\n",
    "import matplotlib.pyplot as plt\n",
    "%matplotlib inline\n",
    "pd.set_option('display.mpl_style', 'default') # Make the graphs a bit prettier\n",
    "##check out tutorial here:\n",
    "##http://nbviewer.ipython.org/github/jvns/pandas-cookbook/blob/v0.1/cookbook/Chapter%201%20-%20Reading%20from%20a%20CSV.ipynb\n",
    "df = pd.read_csv('train.csv')\n",
    "df1 = df.drop('Winner', 1)\n",
    "df['Win_bin'] = (df['Winner'] == 'Barack Obama') ##new column: logical wrt winner\n",
    "df.head()"
   ]
  },
  {
   "cell_type": "markdown",
   "metadata": {},
   "source": [
    "VISUALIZE THE DATA (1ST AND 2ND PRINCIPAL COMPONENTS)"
   ]
  },
  {
   "cell_type": "code",
   "execution_count": null,
   "metadata": {
    "collapsed": false
   },
   "outputs": [],
   "source": [
    "##using (parts of) andreas mueller's intro. to scikit-learn as a pseudo-template for analyzing \n",
    "##the POTUS data:\n",
    "##https://github.com/amueller/sklearn_tutorial/blob/master/presentation.ipynb\n",
    "from sklearn.decomposition import PCA #import principal component analysis\n",
    "pca = PCA(n_components=2) #Instantiate the model & set parameters\n",
    "pca.fit(df1); #Fit the model\n",
    "df_pca = pca.transform(df1)#Apply the model. For embeddings / decompositions, this is transform.\n",
    "print(df_pca.shape)\n",
    "plt.scatter(df_pca[:, 0], df_pca[:, 1] , c = df['Win_bin'] , s = 50 , alpha=0.4);"
   ]
  },
  {
   "cell_type": "markdown",
   "metadata": {},
   "source": [
    "SPLIT DATA INTO TRAINING AND TEST SETS"
   ]
  },
  {
   "cell_type": "code",
   "execution_count": null,
   "metadata": {
    "collapsed": false
   },
   "outputs": [],
   "source": [
    "from sklearn.cross_validation import train_test_split\n",
    "X_train, X_test, y_train, y_test = train_test_split(df1, df['Win_bin'], random_state=0)\n",
    "print(\"X_train shape: %s\" % repr(X_train.shape))\n",
    "print(\"y_train shape: %s\" % repr(y_train.shape))\n",
    "print(\"X_test shape: %s\" % repr(X_test.shape))\n",
    "print(\"y_test shape: %s\" % repr(y_test.shape))"
   ]
  },
  {
   "cell_type": "markdown",
   "metadata": {},
   "source": [
    "LET'S TRY A LINEAR SVM"
   ]
  },
  {
   "cell_type": "code",
   "execution_count": null,
   "metadata": {
    "collapsed": false
   },
   "outputs": [],
   "source": [
    "from sklearn.svm import LinearSVC\n",
    "svm = LinearSVC() # Instantiate the model.\n",
    "svm.fit(X_train, y_train);#Fit the model.\n",
    "svm.predict(X_train)# apply the model to the hold-out set\n",
    "print(svm.score(X_train, y_train))\n",
    "print(svm.score(X_test, y_test))"
   ]
  },
  {
   "cell_type": "markdown",
   "metadata": {},
   "source": [
    "NOW LET'S TRY A SVM WITH A GAUSSIAN KERNEL"
   ]
  },
  {
   "cell_type": "code",
   "execution_count": null,
   "metadata": {
    "collapsed": false
   },
   "outputs": [],
   "source": [
    "from sklearn.svm import SVC\n",
    "svm = SVC(kernel='rbf')# Instantiate the model (SVM w/ Gaussian kernel)\n",
    "svm.fit(X_train, y_train);#Fit the model.\n",
    "svm.predict(X_train)# apply the model to the hold-out set\n",
    "print(svm.score(X_train, y_train))\n",
    "print(svm.score(X_test, y_test))"
   ]
  },
  {
   "cell_type": "markdown",
   "metadata": {},
   "source": [
    "NOW WE'RE GOING TO TRY A BUNCH OF SVMs (LINEAR, POLYNOMIAL & GAUSSIAN KERNELS) AND PERFORM\n",
    "A GRID SEARCH OVER THE HYPERPARAMETERS (TUNING THEM), SELECTING FOR PRECISION"
   ]
  },
  {
   "cell_type": "code",
   "execution_count": null,
   "metadata": {
    "collapsed": false
   },
   "outputs": [],
   "source": [
    "from sklearn.grid_search import GridSearchCV\n",
    "from sklearn.metrics import classification_report\n",
    "from sklearn.svm import SVC\n",
    "from sklearn import svm, metrics, preprocessing\n",
    "import csv\n",
    "import time\n",
    "# Set the parameters by cross-validation\n",
    "\n",
    "start_time = time.time()\n",
    "\n",
    "tuned_parameters = [{'kernel': ['rbf'], 'gamma': [1e-3, 1e-4],\n",
    "                     'C': [1, 10]},\n",
    "                    {'kernel': ['linear'], 'C': [1, 10]},{'C': [1, 10, 100, 1000], 'gamma': [0.001, 0.0001], 'kernel': ['poly'], 'degree': [2]},\n",
    "                    {'C': [1, 10, 100, 1000], 'gamma': [0.001, 0.0001], 'kernel': ['poly'], 'degree': [3]},\n",
    "                    {'C': [1, 10, 100, 1000], 'gamma': [0.001, 0.0001], 'kernel': ['poly'], 'degree': [4]}]\n",
    "\n",
    "\n",
    "scores = ['precision'] # you can alter this by adding, for example, `recall'\n",
    "\n",
    "for score in scores:\n",
    "    print(\"# Tuning hyper-parameters for %s\" % score)\n",
    "    print()\n",
    "\n",
    "    clf = GridSearchCV(SVC(C=1), tuned_parameters)\n",
    "    clf.fit(X_train, y_train)\n",
    "\n",
    "    print(\"Best parameters set found on development set:\")\n",
    "    print()\n",
    "    print(clf.best_estimator_)\n",
    "    print()\n",
    "    print(\"Grid scores on development set:\")\n",
    "    print()\n",
    "    for params, mean_score, scores in clf.grid_scores_:\n",
    "        print(\"%0.3f (+/-%0.03f) for %s\"\n",
    "              % (mean_score, scores.std() / 2, params))\n",
    "    print()\n",
    "    \n",
    "print(time.time()- start_time)"
   ]
  },
  {
   "cell_type": "code",
   "execution_count": null,
   "metadata": {
    "collapsed": true
   },
   "outputs": [],
   "source": []
  }
 ],
 "metadata": {
  "kernelspec": {
   "display_name": "Python 2",
   "language": "python",
   "name": "python2"
  },
  "language_info": {
   "codemirror_mode": {
    "name": "ipython",
    "version": 2
   },
   "file_extension": ".py",
   "mimetype": "text/x-python",
   "name": "python",
   "nbconvert_exporter": "python",
   "pygments_lexer": "ipython2",
   "version": "2.7.10"
  }
 },
 "nbformat": 4,
 "nbformat_minor": 0
}
