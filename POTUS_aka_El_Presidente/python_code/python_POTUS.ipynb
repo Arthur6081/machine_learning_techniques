{
 "cells": [
  {
   "cell_type": "markdown",
   "metadata": {},
   "source": [
    "<h1>MUCKING AROUND WITH POTUS DATA AND MACHINE LEARNING</h1>"
   ]
  },
  {
   "cell_type": "markdown",
   "metadata": {},
   "source": [
    "<h2>IMPORT SOME LIBRARIES AND READ IN DATA</h2>"
   ]
  },
  {
   "cell_type": "code",
   "execution_count": 1,
   "metadata": {
    "collapsed": false
   },
   "outputs": [
    {
     "data": {
      "text/html": [
       "<div style=\"max-height:1000px;max-width:1500px;overflow:auto;\">\n",
       "<table border=\"1\" class=\"dataframe\">\n",
       "  <thead>\n",
       "    <tr style=\"text-align: right;\">\n",
       "      <th></th>\n",
       "      <th>Total population</th>\n",
       "      <th>Median age</th>\n",
       "      <th>% BachelorsDeg or higher</th>\n",
       "      <th>Unemployment rate</th>\n",
       "      <th>Per capita income</th>\n",
       "      <th>Total households</th>\n",
       "      <th>Average household size</th>\n",
       "      <th>% Owner occupied housing</th>\n",
       "      <th>% Renter occupied housing</th>\n",
       "      <th>% Vacant housing</th>\n",
       "      <th>Median home value</th>\n",
       "      <th>Population growth</th>\n",
       "      <th>House hold growth</th>\n",
       "      <th>Per capita income growth</th>\n",
       "      <th>Winner</th>\n",
       "      <th>Win_bin</th>\n",
       "    </tr>\n",
       "  </thead>\n",
       "  <tbody>\n",
       "    <tr>\n",
       "      <th>0</th>\n",
       "      <td>   9278</td>\n",
       "      <td> 37.9</td>\n",
       "      <td> 12.6</td>\n",
       "      <td> 21.3</td>\n",
       "      <td> 13992</td>\n",
       "      <td>   3802</td>\n",
       "      <td> 2.42</td>\n",
       "      <td> 51.9</td>\n",
       "      <td> 16.6</td>\n",
       "      <td> 31.6</td>\n",
       "      <td>  63959</td>\n",
       "      <td>-0.69</td>\n",
       "      <td>-0.49</td>\n",
       "      <td> 0.71</td>\n",
       "      <td> Barack Obama</td>\n",
       "      <td> True</td>\n",
       "    </tr>\n",
       "    <tr>\n",
       "      <th>1</th>\n",
       "      <td>  18594</td>\n",
       "      <td> 36.3</td>\n",
       "      <td>  9.7</td>\n",
       "      <td> 14.3</td>\n",
       "      <td> 14622</td>\n",
       "      <td>   6764</td>\n",
       "      <td> 2.55</td>\n",
       "      <td> 63.7</td>\n",
       "      <td> 16.2</td>\n",
       "      <td> 20.1</td>\n",
       "      <td>  74330</td>\n",
       "      <td>-0.13</td>\n",
       "      <td> 0.03</td>\n",
       "      <td> 0.85</td>\n",
       "      <td> Barack Obama</td>\n",
       "      <td> True</td>\n",
       "    </tr>\n",
       "    <tr>\n",
       "      <th>2</th>\n",
       "      <td> 662628</td>\n",
       "      <td> 37.9</td>\n",
       "      <td> 27.9</td>\n",
       "      <td> 12.1</td>\n",
       "      <td> 23909</td>\n",
       "      <td> 267862</td>\n",
       "      <td> 2.41</td>\n",
       "      <td> 57.0</td>\n",
       "      <td> 28.8</td>\n",
       "      <td> 14.2</td>\n",
       "      <td> 112687</td>\n",
       "      <td>-0.09</td>\n",
       "      <td> 0.00</td>\n",
       "      <td> 0.55</td>\n",
       "      <td> Barack Obama</td>\n",
       "      <td> True</td>\n",
       "    </tr>\n",
       "    <tr>\n",
       "      <th>3</th>\n",
       "      <td>  21292</td>\n",
       "      <td> 38.9</td>\n",
       "      <td> 14.1</td>\n",
       "      <td> 15.7</td>\n",
       "      <td> 16829</td>\n",
       "      <td>   8547</td>\n",
       "      <td> 2.47</td>\n",
       "      <td> 63.5</td>\n",
       "      <td> 17.1</td>\n",
       "      <td> 19.4</td>\n",
       "      <td>  73643</td>\n",
       "      <td>-0.59</td>\n",
       "      <td>-0.43</td>\n",
       "      <td> 0.57</td>\n",
       "      <td> Barack Obama</td>\n",
       "      <td> True</td>\n",
       "    </tr>\n",
       "    <tr>\n",
       "      <th>4</th>\n",
       "      <td>  13252</td>\n",
       "      <td> 34.5</td>\n",
       "      <td> 15.0</td>\n",
       "      <td> 15.8</td>\n",
       "      <td> 13012</td>\n",
       "      <td>   5222</td>\n",
       "      <td> 2.47</td>\n",
       "      <td> 53.7</td>\n",
       "      <td> 20.7</td>\n",
       "      <td> 25.6</td>\n",
       "      <td>  56642</td>\n",
       "      <td>-1.16</td>\n",
       "      <td>-1.03</td>\n",
       "      <td> 0.69</td>\n",
       "      <td> Barack Obama</td>\n",
       "      <td> True</td>\n",
       "    </tr>\n",
       "  </tbody>\n",
       "</table>\n",
       "</div>"
      ],
      "text/plain": [
       "   Total population  Median age  % BachelorsDeg or higher  Unemployment rate  \\\n",
       "0              9278        37.9                      12.6               21.3   \n",
       "1             18594        36.3                       9.7               14.3   \n",
       "2            662628        37.9                      27.9               12.1   \n",
       "3             21292        38.9                      14.1               15.7   \n",
       "4             13252        34.5                      15.0               15.8   \n",
       "\n",
       "   Per capita income  Total households  Average household size  \\\n",
       "0              13992              3802                    2.42   \n",
       "1              14622              6764                    2.55   \n",
       "2              23909            267862                    2.41   \n",
       "3              16829              8547                    2.47   \n",
       "4              13012              5222                    2.47   \n",
       "\n",
       "   % Owner occupied housing  % Renter occupied housing  % Vacant housing  \\\n",
       "0                      51.9                       16.6              31.6   \n",
       "1                      63.7                       16.2              20.1   \n",
       "2                      57.0                       28.8              14.2   \n",
       "3                      63.5                       17.1              19.4   \n",
       "4                      53.7                       20.7              25.6   \n",
       "\n",
       "   Median home value  Population growth  House hold growth  \\\n",
       "0              63959              -0.69              -0.49   \n",
       "1              74330              -0.13               0.03   \n",
       "2             112687              -0.09               0.00   \n",
       "3              73643              -0.59              -0.43   \n",
       "4              56642              -1.16              -1.03   \n",
       "\n",
       "   Per capita income growth        Winner Win_bin  \n",
       "0                      0.71  Barack Obama    True  \n",
       "1                      0.85  Barack Obama    True  \n",
       "2                      0.55  Barack Obama    True  \n",
       "3                      0.57  Barack Obama    True  \n",
       "4                      0.69  Barack Obama    True  "
      ]
     },
     "execution_count": 1,
     "metadata": {},
     "output_type": "execute_result"
    }
   ],
   "source": [
    "import numpy as np\n",
    "import pandas as pd\n",
    "import matplotlib.pyplot as plt\n",
    "%matplotlib inline\n",
    "pd.set_option('display.mpl_style', 'default') # Make the graphs a bit prettier\n",
    "##check out tutorial here:\n",
    "##http://nbviewer.ipython.org/github/jvns/pandas-cookbook/blob/v0.1/cookbook/Chapter%201%20-%20Reading%20from%20a%20CSV.ipynb\n",
    "df = pd.read_csv('../train.csv')\n",
    "df1 = df.drop('Winner', 1)\n",
    "df['Win_bin'] = (df['Winner'] == 'Barack Obama') ##new column: logical wrt winner\n",
    "df.head()"
   ]
  },
  {
   "cell_type": "markdown",
   "metadata": {},
   "source": [
    "<h2>VISUALIZE THE DATA (1ST AND 2ND PRINCIPAL COMPONENTS)</h2>"
   ]
  },
  {
   "cell_type": "code",
   "execution_count": 2,
   "metadata": {
    "collapsed": false
   },
   "outputs": [
    {
     "name": "stdout",
     "output_type": "stream",
     "text": [
      "(1213, 2)\n"
     ]
    },
    {
     "data": {
      "image/png": "[encoded data removed]",
      "text/plain": [
       "<matplotlib.figure.Figure at 0x109346250>"
      ]
     },
     "metadata": {},
     "output_type": "display_data"
    }
   ],
   "source": [
    "##using (parts of) andreas mueller's intro. to scikit-learn as a pseudo-template for analyzing \n",
    "##the POTUS data:\n",
    "##https://github.com/amueller/sklearn_tutorial/blob/master/presentation.ipynb\n",
    "from sklearn.decomposition import PCA #import principal component analysis\n",
    "pca = PCA(n_components=2) #Instantiate the model & set parameters\n",
    "pca.fit(df1); #Fit the model\n",
    "df_pca = pca.transform(df1)#Apply the model. For embeddings / decompositions, this is transform.\n",
    "print(df_pca.shape)\n",
    "plt.scatter(df_pca[:, 0], df_pca[:, 1] , c = df['Win_bin'] , s = 50 , alpha=0.4);"
   ]
  },
  {
   "cell_type": "code",
   "execution_count": 30,
   "metadata": {
    "collapsed": true
   },
   "outputs": [],
   "source": [
    "##time to preprocess\n",
    "from sklearn.preprocessing import scale\n",
    "df2 = scale(df1) #this centers AND scales\n",
    "#pd.DataFrame(df2)"
   ]
  },
  {
   "cell_type": "markdown",
   "metadata": {},
   "source": [
    "<h2>SPLIT DATA INTO TRAINING AND TEST SETS</h2>"
   ]
  },
  {
   "cell_type": "code",
   "execution_count": 60,
   "metadata": {
    "collapsed": false
   },
   "outputs": [
    {
     "name": "stdout",
     "output_type": "stream",
     "text": [
      "X_train shape: (1091, 14)\n",
      "y_train shape: (1091,)\n",
      "X_test shape: (122, 14)\n",
      "y_test shape: (122,)\n"
     ]
    }
   ],
   "source": [
    "from sklearn.cross_validation import train_test_split\n",
    "X_train, X_test, y_train, y_test = train_test_split(df2, df['Winner'], test_size = 0.1, \n",
    "                                                    random_state=0)\n",
    "print(\"X_train shape: %s\" % repr(X_train.shape))\n",
    "print(\"y_train shape: %s\" % repr(y_train.shape))\n",
    "print(\"X_test shape: %s\" % repr(X_test.shape))\n",
    "print(\"y_test shape: %s\" % repr(y_test.shape))"
   ]
  },
  {
   "cell_type": "markdown",
   "metadata": {},
   "source": [
    "<h2>LET'S TRY A LINEAR SVM WITH K-FOLD CROSS VALIDATION</h2>"
   ]
  },
  {
   "cell_type": "code",
   "execution_count": 61,
   "metadata": {
    "collapsed": false
   },
   "outputs": [
    {
     "name": "stderr",
     "output_type": "stream",
     "text": [
      "[Parallel(n_jobs=1)]: Done   1 jobs       | elapsed:    0.0s\n",
      "[Parallel(n_jobs=1)]: Done  50 jobs       | elapsed:    1.3s\n"
     ]
    },
    {
     "name": "stdout",
     "output_type": "stream",
     "text": [
      "Fitting 10 folds for each of 8 candidates, totalling 80 fits\n",
      "{'C': 0.10000000000000001}\n",
      "0.84509624198\n"
     ]
    },
    {
     "name": "stderr",
     "output_type": "stream",
     "text": [
      "[Parallel(n_jobs=1)]: Done  80 out of  80 | elapsed:    3.4s finished\n"
     ]
    },
    {
     "data": {
      "text/plain": [
       "<matplotlib.legend.Legend at 0x1029ad310>"
      ]
     },
     "execution_count": 61,
     "metadata": {},
     "output_type": "execute_result"
    },
    {
     "data": {
      "image/png": "[encoded data removed]",
      "text/plain": [
       "<matplotlib.figure.Figure at 0x10c2d4b10>"
      ]
     },
     "metadata": {},
     "output_type": "display_data"
    }
   ],
   "source": [
    "from sklearn.svm import LinearSVC\n",
    "svm = LinearSVC() # Instantiate the model.\n",
    "from sklearn.grid_search import GridSearchCV\n",
    "from sklearn.metrics import classification_report\n",
    "#also see here: http://scikit-learn.org/stable/auto_examples/grid_search_digits.html\n",
    "svm = LinearSVC() # Instantiate the model\n",
    "tuned_parameters = {'C':10.**np.arange(-3,5)}\n",
    "grid_search = GridSearchCV( svm , param_grid = tuned_parameters , cv = 10 ,verbose = 1 )\n",
    "grid_search.fit(X_train, y_train);\n",
    "print(grid_search.best_params_)\n",
    "print(grid_search.best_score_)\n",
    "##see here about the scoring:\n",
    "##http://scikit-learn.org/stable/modules/model_evaluation.html#scoring-parameter\n",
    "##E.g. gives \"accuracy\" for SVMs:\n",
    "##http://scikit-learn.org/stable/modules/generated/sklearn.svm.LinearSVC.html\n",
    "plt.plot([c.mean_validation_score for c in grid_search.grid_scores_], label=\"validation error\")\n",
    "plt.xticks(np.arange(6), tuned_parameters['C']); plt.xlabel(\"C\"); plt.ylabel(\"Accuracy\");plt.legend(loc='best');\n",
    "#see this thread concerning mean_training_score:\n",
    "#http://stackoverflow.com/questions/23389334/how-to-calculate-the-mean-training-score-using-gridsearchcv-in-scikit-learns"
   ]
  },
  {
   "cell_type": "markdown",
   "metadata": {},
   "source": [
    "Wow! 84.5% accuracy is pretty good for a linear SVM."
   ]
  },
  {
   "cell_type": "markdown",
   "metadata": {},
   "source": [
    "<h2>NOW LET'S TRY A SVM WITH A GAUSSIAN KERNEL</h2>"
   ]
  },
  {
   "cell_type": "code",
   "execution_count": 43,
   "metadata": {
    "collapsed": false
   },
   "outputs": [
    {
     "name": "stderr",
     "output_type": "stream",
     "text": [
      "[Parallel(n_jobs=1)]: Done   1 jobs       | elapsed:    0.0s\n",
      "[Parallel(n_jobs=1)]: Done  50 jobs       | elapsed:    1.2s\n"
     ]
    },
    {
     "name": "stdout",
     "output_type": "stream",
     "text": [
      "Fitting 10 folds for each of 8 candidates, totalling 80 fits\n",
      "{'C': 1.0}\n",
      "0.843263061412\n"
     ]
    },
    {
     "name": "stderr",
     "output_type": "stream",
     "text": [
      "[Parallel(n_jobs=1)]: Done  80 out of  80 | elapsed:    5.3s finished\n"
     ]
    },
    {
     "data": {
      "image/png": "[encoded data removed]",
      "text/plain": [
       "<matplotlib.figure.Figure at 0x10c539710>"
      ]
     },
     "metadata": {},
     "output_type": "display_data"
    }
   ],
   "source": [
    "from sklearn.svm import SVC\n",
    "svm1 = SVC(kernel='rbf')# Instantiate the model (SVM w/ Gaussian kernel)\n",
    "tuned_parameters = {'C':10.**np.arange(-3,5)}\n",
    "grid_search1 = GridSearchCV( svm1 , param_grid = tuned_parameters , cv = 10 ,verbose = 1 )\n",
    "grid_search1.fit(X_train, y_train);\n",
    "print(grid_search1.best_params_)\n",
    "print(grid_search1.best_score_)\n",
    "plt.plot([c.mean_validation_score for c in grid_search1.grid_scores_], label=\"validation error\")\n",
    "plt.xticks(np.arange(6), tuned_parameters['C']); plt.xlabel(\"C\"); plt.ylabel(\"Accuracy\");plt.legend(loc='best');\n"
   ]
  },
  {
   "cell_type": "markdown",
   "metadata": {},
   "source": [
    "<h2>IT'S TIME TO TRY A RANDOM FOREST</h2>"
   ]
  },
  {
   "cell_type": "code",
   "execution_count": 49,
   "metadata": {
    "collapsed": false
   },
   "outputs": [
    {
     "name": "stderr",
     "output_type": "stream",
     "text": [
      "[Parallel(n_jobs=1)]: Done   1 jobs       | elapsed:    0.0s\n",
      "[Parallel(n_jobs=1)]: Done  45 out of  45 | elapsed:    4.1s finished\n"
     ]
    },
    {
     "name": "stdout",
     "output_type": "stream",
     "text": [
      "Fitting 5 folds for each of 9 candidates, totalling 45 fits\n",
      "{'n_estimators': 70}\n",
      "0.846012832264\n"
     ]
    },
    {
     "data": {
      "image/png": "[encoded data removed]",
      "text/plain": [
       "<matplotlib.figure.Figure at 0x10c929090>"
      ]
     },
     "metadata": {},
     "output_type": "display_data"
    }
   ],
   "source": [
    "from sklearn.ensemble import RandomForestClassifier\n",
    "#a random forest builds many randomized decision trees and averages their results.\n",
    "rf = RandomForestClassifier() #Instantiate the model.\n",
    "tuned_parameters = {'n_estimators':10*np.arange(1,10)}\n",
    "grid_search2 = GridSearchCV( rf , param_grid = tuned_parameters , cv = 5 ,verbose = 1 )\n",
    "grid_search2.fit(X_train, y_train);\n",
    "print(grid_search2.best_params_)\n",
    "print(grid_search2.best_score_)\n",
    "plt.plot([c.mean_validation_score for c in grid_search2.grid_scores_], label=\"validation error\")\n",
    "plt.xticks(np.arange(9), tuned_parameters['n_estimators']); \n",
    "plt.xlabel(\"number of trees in the forest\"); plt.ylabel(\"Accuracy\");plt.legend(loc='best');\n"
   ]
  },
  {
   "cell_type": "markdown",
   "metadata": {},
   "source": [
    "<h2> MAKE PREDICTIONS ON TEST SET </h2>"
   ]
  },
  {
   "cell_type": "code",
   "execution_count": 65,
   "metadata": {
    "collapsed": false
   },
   "outputs": [
    {
     "name": "stdout",
     "output_type": "stream",
     "text": [
      "test shape: (1901, 14)\n",
      "['Barack Obama' 'Mitt Romney' 'Mitt Romney' ..., 'Mitt Romney'\n",
      " 'Mitt Romney' 'Mitt Romney']\n"
     ]
    }
   ],
   "source": [
    "test_set = pd.read_csv('../test.csv')\n",
    "test = scale(test_set) #this centers AND scales\n",
    "print(\"test shape: %s\" % repr(test.shape))\n",
    "predictions = grid_search.best_estimator_.predict(test) #make predictions using the\n",
    "#linear SVM that performed the best above\n",
    "print(predictions)"
   ]
  },
  {
   "cell_type": "markdown",
   "metadata": {},
   "source": [
    "<h2>NEXT STEPS (STEPPING' UP REAL SOON! <-- PROBABLY TOMORROW) </h2>"
   ]
  },
  {
   "cell_type": "markdown",
   "metadata": {},
   "source": [
    "Next up: check out scikit-learn's pipelines:\n",
    "#http://scikit-learn.org/stable/tutorial/statistical_inference/putting_together.html"
   ]
  },
  {
   "cell_type": "code",
   "execution_count": null,
   "metadata": {
    "collapsed": true
   },
   "outputs": [],
   "source": []
  }
 ],
 "metadata": {
  "kernelspec": {
   "display_name": "Python 2",
   "language": "python",
   "name": "python2"
  },
  "language_info": {
   "codemirror_mode": {
    "name": "ipython",
    "version": 2
   },
   "file_extension": ".py",
   "mimetype": "text/x-python",
   "name": "python",
   "nbconvert_exporter": "python",
   "pygments_lexer": "ipython2",
   "version": "2.7.10"
  }
 },
 "nbformat": 4,
 "nbformat_minor": 0
}
